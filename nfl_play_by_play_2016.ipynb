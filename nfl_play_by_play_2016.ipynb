{
 "cells": [
  {
   "cell_type": "code",
   "execution_count": 1,
   "metadata": {
    "collapsed": true
   },
   "outputs": [],
   "source": [
    "# Using NFL 2016 Play by Play Data to Gain Insight into the New England Patriots"
   ]
  },
  {
   "cell_type": "markdown",
   "metadata": {},
   "source": [
    "## Project Setup"
   ]
  },
  {
   "cell_type": "code",
   "execution_count": 2,
   "metadata": {
    "collapsed": true
   },
   "outputs": [],
   "source": [
    "import pandas as pd"
   ]
  },
  {
   "cell_type": "code",
   "execution_count": 3,
   "metadata": {
    "collapsed": true
   },
   "outputs": [],
   "source": [
    "nfl = pd.read_csv('pbp-2016.csv')\n",
    "take_aways = [] # list that will contain my take aways while doing analysis\n",
    "todo = [] # list that will contain things that I still need to do"
   ]
  },
  {
   "cell_type": "markdown",
   "metadata": {},
   "source": [
    "## Data Exploration"
   ]
  },
  {
   "cell_type": "code",
   "execution_count": 4,
   "metadata": {
    "collapsed": false
   },
   "outputs": [
    {
     "data": {
      "text/plain": [
       "(45951, 45)"
      ]
     },
     "execution_count": 4,
     "metadata": {},
     "output_type": "execute_result"
    }
   ],
   "source": [
    "nfl.shape"
   ]
  },
  {
   "cell_type": "code",
   "execution_count": 5,
   "metadata": {
    "collapsed": false
   },
   "outputs": [
    {
     "data": {
      "text/html": [
       "<div>\n",
       "<table border=\"1\" class=\"dataframe\">\n",
       "  <thead>\n",
       "    <tr style=\"text-align: right;\">\n",
       "      <th></th>\n",
       "      <th>GameId</th>\n",
       "      <th>GameDate</th>\n",
       "      <th>Quarter</th>\n",
       "      <th>Minute</th>\n",
       "      <th>Second</th>\n",
       "      <th>OffenseTeam</th>\n",
       "      <th>DefenseTeam</th>\n",
       "      <th>Down</th>\n",
       "      <th>ToGo</th>\n",
       "      <th>YardLine</th>\n",
       "      <th>...</th>\n",
       "      <th>IsTwoPointConversion</th>\n",
       "      <th>IsTwoPointConversionSuccessful</th>\n",
       "      <th>RushDirection</th>\n",
       "      <th>YardLineFixed</th>\n",
       "      <th>YardLineDirection</th>\n",
       "      <th>IsPenaltyAccepted</th>\n",
       "      <th>PenaltyTeam</th>\n",
       "      <th>IsNoPlay</th>\n",
       "      <th>PenaltyType</th>\n",
       "      <th>PenaltyYards</th>\n",
       "    </tr>\n",
       "  </thead>\n",
       "  <tbody>\n",
       "    <tr>\n",
       "      <th>0</th>\n",
       "      <td>2016090800</td>\n",
       "      <td>2016-09-08</td>\n",
       "      <td>1</td>\n",
       "      <td>0</td>\n",
       "      <td>0</td>\n",
       "      <td>NaN</td>\n",
       "      <td>CAR</td>\n",
       "      <td>0</td>\n",
       "      <td>0</td>\n",
       "      <td>0</td>\n",
       "      <td>...</td>\n",
       "      <td>0</td>\n",
       "      <td>0</td>\n",
       "      <td>NaN</td>\n",
       "      <td>0</td>\n",
       "      <td>OWN</td>\n",
       "      <td>0</td>\n",
       "      <td>NaN</td>\n",
       "      <td>0</td>\n",
       "      <td>NaN</td>\n",
       "      <td>0</td>\n",
       "    </tr>\n",
       "    <tr>\n",
       "      <th>1</th>\n",
       "      <td>2016090800</td>\n",
       "      <td>2016-09-08</td>\n",
       "      <td>4</td>\n",
       "      <td>2</td>\n",
       "      <td>0</td>\n",
       "      <td>NaN</td>\n",
       "      <td>CAR</td>\n",
       "      <td>0</td>\n",
       "      <td>0</td>\n",
       "      <td>0</td>\n",
       "      <td>...</td>\n",
       "      <td>0</td>\n",
       "      <td>0</td>\n",
       "      <td>NaN</td>\n",
       "      <td>0</td>\n",
       "      <td>OWN</td>\n",
       "      <td>0</td>\n",
       "      <td>NaN</td>\n",
       "      <td>0</td>\n",
       "      <td>NaN</td>\n",
       "      <td>0</td>\n",
       "    </tr>\n",
       "    <tr>\n",
       "      <th>2</th>\n",
       "      <td>2016091100</td>\n",
       "      <td>2016-09-11</td>\n",
       "      <td>4</td>\n",
       "      <td>6</td>\n",
       "      <td>18</td>\n",
       "      <td>NaN</td>\n",
       "      <td>TB</td>\n",
       "      <td>0</td>\n",
       "      <td>0</td>\n",
       "      <td>0</td>\n",
       "      <td>...</td>\n",
       "      <td>0</td>\n",
       "      <td>0</td>\n",
       "      <td>NaN</td>\n",
       "      <td>0</td>\n",
       "      <td>OWN</td>\n",
       "      <td>0</td>\n",
       "      <td>NaN</td>\n",
       "      <td>0</td>\n",
       "      <td>NaN</td>\n",
       "      <td>0</td>\n",
       "    </tr>\n",
       "    <tr>\n",
       "      <th>3</th>\n",
       "      <td>2016091100</td>\n",
       "      <td>2016-09-11</td>\n",
       "      <td>4</td>\n",
       "      <td>0</td>\n",
       "      <td>0</td>\n",
       "      <td>NaN</td>\n",
       "      <td>TB</td>\n",
       "      <td>0</td>\n",
       "      <td>0</td>\n",
       "      <td>0</td>\n",
       "      <td>...</td>\n",
       "      <td>0</td>\n",
       "      <td>0</td>\n",
       "      <td>NaN</td>\n",
       "      <td>0</td>\n",
       "      <td>OWN</td>\n",
       "      <td>0</td>\n",
       "      <td>NaN</td>\n",
       "      <td>0</td>\n",
       "      <td>NaN</td>\n",
       "      <td>0</td>\n",
       "    </tr>\n",
       "    <tr>\n",
       "      <th>4</th>\n",
       "      <td>2016091101</td>\n",
       "      <td>2016-09-11</td>\n",
       "      <td>2</td>\n",
       "      <td>0</td>\n",
       "      <td>0</td>\n",
       "      <td>NaN</td>\n",
       "      <td>BUF</td>\n",
       "      <td>0</td>\n",
       "      <td>0</td>\n",
       "      <td>0</td>\n",
       "      <td>...</td>\n",
       "      <td>0</td>\n",
       "      <td>0</td>\n",
       "      <td>NaN</td>\n",
       "      <td>0</td>\n",
       "      <td>OWN</td>\n",
       "      <td>0</td>\n",
       "      <td>NaN</td>\n",
       "      <td>0</td>\n",
       "      <td>NaN</td>\n",
       "      <td>0</td>\n",
       "    </tr>\n",
       "  </tbody>\n",
       "</table>\n",
       "<p>5 rows × 45 columns</p>\n",
       "</div>"
      ],
      "text/plain": [
       "       GameId    GameDate  Quarter  Minute  Second OffenseTeam DefenseTeam  \\\n",
       "0  2016090800  2016-09-08        1       0       0         NaN         CAR   \n",
       "1  2016090800  2016-09-08        4       2       0         NaN         CAR   \n",
       "2  2016091100  2016-09-11        4       6      18         NaN          TB   \n",
       "3  2016091100  2016-09-11        4       0       0         NaN          TB   \n",
       "4  2016091101  2016-09-11        2       0       0         NaN         BUF   \n",
       "\n",
       "   Down  ToGo  YardLine      ...       IsTwoPointConversion  \\\n",
       "0     0     0         0      ...                          0   \n",
       "1     0     0         0      ...                          0   \n",
       "2     0     0         0      ...                          0   \n",
       "3     0     0         0      ...                          0   \n",
       "4     0     0         0      ...                          0   \n",
       "\n",
       "   IsTwoPointConversionSuccessful  RushDirection  YardLineFixed  \\\n",
       "0                               0            NaN              0   \n",
       "1                               0            NaN              0   \n",
       "2                               0            NaN              0   \n",
       "3                               0            NaN              0   \n",
       "4                               0            NaN              0   \n",
       "\n",
       "  YardLineDirection  IsPenaltyAccepted  PenaltyTeam  IsNoPlay  PenaltyType  \\\n",
       "0               OWN                  0          NaN         0          NaN   \n",
       "1               OWN                  0          NaN         0          NaN   \n",
       "2               OWN                  0          NaN         0          NaN   \n",
       "3               OWN                  0          NaN         0          NaN   \n",
       "4               OWN                  0          NaN         0          NaN   \n",
       "\n",
       "   PenaltyYards  \n",
       "0             0  \n",
       "1             0  \n",
       "2             0  \n",
       "3             0  \n",
       "4             0  \n",
       "\n",
       "[5 rows x 45 columns]"
      ]
     },
     "execution_count": 5,
     "metadata": {},
     "output_type": "execute_result"
    }
   ],
   "source": [
    "nfl.head()"
   ]
  },
  {
   "cell_type": "markdown",
   "metadata": {},
   "source": [
    "### Investigating missing values"
   ]
  },
  {
   "cell_type": "code",
   "execution_count": 6,
   "metadata": {
    "collapsed": false
   },
   "outputs": [
    {
     "data": {
      "text/plain": [
       "Unnamed: 10                       1.000000\n",
       "Challenger                        1.000000\n",
       "Unnamed: 16                       1.000000\n",
       "Unnamed: 12                       1.000000\n",
       "Unnamed: 17                       1.000000\n",
       "PenaltyTeam                       0.915279\n",
       "PenaltyType                       0.915258\n",
       "RushDirection                     0.729560\n",
       "PassType                          0.579574\n",
       "OffenseTeam                       0.073470\n",
       "PlayType                          0.035016\n",
       "Formation                         0.016931\n",
       "Description                       0.000022\n",
       "Minute                            0.000000\n",
       "NextScore                         0.000000\n",
       "GameDate                          0.000000\n",
       "TeamWin                           0.000000\n",
       "SeriesFirstDown                   0.000000\n",
       "Second                            0.000000\n",
       "Quarter                           0.000000\n",
       "SeasonYear                        0.000000\n",
       "YardLine                          0.000000\n",
       "ToGo                              0.000000\n",
       "Down                              0.000000\n",
       "DefenseTeam                       0.000000\n",
       "PenaltyYards                      0.000000\n",
       "IsRush                            0.000000\n",
       "Yards                             0.000000\n",
       "IsPass                            0.000000\n",
       "IsNoPlay                          0.000000\n",
       "IsPenaltyAccepted                 0.000000\n",
       "YardLineDirection                 0.000000\n",
       "YardLineFixed                     0.000000\n",
       "IsTwoPointConversionSuccessful    0.000000\n",
       "IsTwoPointConversion              0.000000\n",
       "IsPenalty                         0.000000\n",
       "IsFumble                          0.000000\n",
       "IsInterception                    0.000000\n",
       "IsMeasurement                     0.000000\n",
       "IsChallengeReversed               0.000000\n",
       "IsChallenge                       0.000000\n",
       "IsSack                            0.000000\n",
       "IsTouchdown                       0.000000\n",
       "IsIncomplete                      0.000000\n",
       "GameId                            0.000000\n",
       "dtype: float64"
      ]
     },
     "execution_count": 6,
     "metadata": {},
     "output_type": "execute_result"
    }
   ],
   "source": [
    "missing = nfl.isnull().sum() / len(nfl)\n",
    "missing.sort_values(ascending=False)"
   ]
  },
  {
   "cell_type": "code",
   "execution_count": 7,
   "metadata": {
    "collapsed": true
   },
   "outputs": [],
   "source": [
    "todo.append('What does the challenger column contain and why are all null?')"
   ]
  },
  {
   "cell_type": "code",
   "execution_count": 8,
   "metadata": {
    "collapsed": false
   },
   "outputs": [
    {
     "data": {
      "text/plain": [
       "Series([], Name: Challenger, dtype: int64)"
      ]
     },
     "execution_count": 8,
     "metadata": {},
     "output_type": "execute_result"
    }
   ],
   "source": [
    "nfl.Challenger.value_counts()"
   ]
  },
  {
   "cell_type": "code",
   "execution_count": 9,
   "metadata": {
    "collapsed": false
   },
   "outputs": [
    {
     "data": {
      "text/plain": [
       "Index(['GameId', 'GameDate', 'Quarter', 'Minute', 'Second', 'OffenseTeam',\n",
       "       'DefenseTeam', 'Down', 'ToGo', 'YardLine', 'Unnamed: 10',\n",
       "       'SeriesFirstDown', 'Unnamed: 12', 'NextScore', 'Description', 'TeamWin',\n",
       "       'Unnamed: 16', 'Unnamed: 17', 'SeasonYear', 'Yards', 'Formation',\n",
       "       'PlayType', 'IsRush', 'IsPass', 'IsIncomplete', 'IsTouchdown',\n",
       "       'PassType', 'IsSack', 'IsChallenge', 'IsChallengeReversed',\n",
       "       'Challenger', 'IsMeasurement', 'IsInterception', 'IsFumble',\n",
       "       'IsPenalty', 'IsTwoPointConversion', 'IsTwoPointConversionSuccessful',\n",
       "       'RushDirection', 'YardLineFixed', 'YardLineDirection',\n",
       "       'IsPenaltyAccepted', 'PenaltyTeam', 'IsNoPlay', 'PenaltyType',\n",
       "       'PenaltyYards'],\n",
       "      dtype='object')"
      ]
     },
     "execution_count": 9,
     "metadata": {},
     "output_type": "execute_result"
    }
   ],
   "source": [
    "nfl.columns"
   ]
  },
  {
   "cell_type": "code",
   "execution_count": 10,
   "metadata": {
    "collapsed": true
   },
   "outputs": [],
   "source": [
    "todo.append('Remove columns which contain all nulls because they cannot be used')"
   ]
  },
  {
   "cell_type": "code",
   "execution_count": 11,
   "metadata": {
    "collapsed": false
   },
   "outputs": [],
   "source": [
    "nfl.dropna(axis=1, how='all', inplace=True)"
   ]
  },
  {
   "cell_type": "code",
   "execution_count": 12,
   "metadata": {
    "collapsed": false
   },
   "outputs": [
    {
     "data": {
      "text/plain": [
       "(45951, 40)"
      ]
     },
     "execution_count": 12,
     "metadata": {},
     "output_type": "execute_result"
    }
   ],
   "source": [
    "nfl.shape"
   ]
  },
  {
   "cell_type": "code",
   "execution_count": 13,
   "metadata": {
    "collapsed": false
   },
   "outputs": [
    {
     "data": {
      "text/plain": [
       "Index(['GameId', 'GameDate', 'Quarter', 'Minute', 'Second', 'OffenseTeam',\n",
       "       'DefenseTeam', 'Down', 'ToGo', 'YardLine', 'SeriesFirstDown',\n",
       "       'NextScore', 'Description', 'TeamWin', 'SeasonYear', 'Yards',\n",
       "       'Formation', 'PlayType', 'IsRush', 'IsPass', 'IsIncomplete',\n",
       "       'IsTouchdown', 'PassType', 'IsSack', 'IsChallenge',\n",
       "       'IsChallengeReversed', 'IsMeasurement', 'IsInterception', 'IsFumble',\n",
       "       'IsPenalty', 'IsTwoPointConversion', 'IsTwoPointConversionSuccessful',\n",
       "       'RushDirection', 'YardLineFixed', 'YardLineDirection',\n",
       "       'IsPenaltyAccepted', 'PenaltyTeam', 'IsNoPlay', 'PenaltyType',\n",
       "       'PenaltyYards'],\n",
       "      dtype='object')"
      ]
     },
     "execution_count": 13,
     "metadata": {},
     "output_type": "execute_result"
    }
   ],
   "source": [
    "nfl.columns"
   ]
  },
  {
   "cell_type": "code",
   "execution_count": 14,
   "metadata": {
    "collapsed": false
   },
   "outputs": [
    {
     "data": {
      "text/plain": [
       "GameId                                0\n",
       "GameDate                              0\n",
       "Quarter                               0\n",
       "Minute                                0\n",
       "Second                                0\n",
       "OffenseTeam                        3376\n",
       "DefenseTeam                           0\n",
       "Down                                  0\n",
       "ToGo                                  0\n",
       "YardLine                              0\n",
       "SeriesFirstDown                       0\n",
       "NextScore                             0\n",
       "Description                           1\n",
       "TeamWin                               0\n",
       "SeasonYear                            0\n",
       "Yards                                 0\n",
       "Formation                           778\n",
       "PlayType                           1609\n",
       "IsRush                                0\n",
       "IsPass                                0\n",
       "IsIncomplete                          0\n",
       "IsTouchdown                           0\n",
       "PassType                          26632\n",
       "IsSack                                0\n",
       "IsChallenge                           0\n",
       "IsChallengeReversed                   0\n",
       "IsMeasurement                         0\n",
       "IsInterception                        0\n",
       "IsFumble                              0\n",
       "IsPenalty                             0\n",
       "IsTwoPointConversion                  0\n",
       "IsTwoPointConversionSuccessful        0\n",
       "RushDirection                     33524\n",
       "YardLineFixed                         0\n",
       "YardLineDirection                     0\n",
       "IsPenaltyAccepted                     0\n",
       "PenaltyTeam                       42058\n",
       "IsNoPlay                              0\n",
       "PenaltyType                       42057\n",
       "PenaltyYards                          0\n",
       "dtype: int64"
      ]
     },
     "execution_count": 14,
     "metadata": {},
     "output_type": "execute_result"
    }
   ],
   "source": [
    "nfl.isnull().sum()"
   ]
  },
  {
   "cell_type": "code",
   "execution_count": 15,
   "metadata": {
    "collapsed": false
   },
   "outputs": [
    {
     "name": "stdout",
     "output_type": "stream",
     "text": [
      "['What does the challenger column contain and why are all null?', 'Remove columns which contain all nulls because they cannot be used']\n",
      "['What does the challenger column contain and why are all null?']\n"
     ]
    }
   ],
   "source": [
    "todo.pop() # Columns w/ all nulls were successfully removed\n",
    "print(todo)"
   ]
  },
  {
   "cell_type": "code",
   "execution_count": 18,
   "metadata": {
    "collapsed": true
   },
   "outputs": [],
   "source": [
    "todo.append('Why are there 3376 nulls for OffenseTeam?')\n",
    "todo.append('Why are there 778 nulls for Formation?')\n",
    "todo.append('Why are there 1609 nulls for PlayType?')"
   ]
  },
  {
   "cell_type": "code",
   "execution_count": 19,
   "metadata": {
    "collapsed": false
   },
   "outputs": [
    {
     "data": {
      "text/plain": [
       "['What does the challenger column contain and why are all null?',\n",
       " 'Why are there 3376 nulls for OffenseTeam?',\n",
       " 'Why are there 778 nulls for Formation?',\n",
       " 'Why are there 1609 nulls for PlayType?']"
      ]
     },
     "execution_count": 19,
     "metadata": {},
     "output_type": "execute_result"
    }
   ],
   "source": [
    "todo"
   ]
  },
  {
   "cell_type": "markdown",
   "metadata": {},
   "source": [
    "### Investigating the 4 null anomalies "
   ]
  },
  {
   "cell_type": "code",
   "execution_count": 20,
   "metadata": {
    "collapsed": false
   },
   "outputs": [],
   "source": [
    "del todo[0] \n",
    "# deleting because the site doesn't say what the \"Challenger\" column is supposed to be"
   ]
  },
  {
   "cell_type": "code",
   "execution_count": 21,
   "metadata": {
    "collapsed": false
   },
   "outputs": [
    {
     "data": {
      "text/plain": [
       "['Why are there 3376 nulls for OffenseTeam?',\n",
       " 'Why are there 778 nulls for Formation?',\n",
       " 'Why are there 1609 nulls for PlayType?']"
      ]
     },
     "execution_count": 21,
     "metadata": {},
     "output_type": "execute_result"
    }
   ],
   "source": [
    "todo"
   ]
  },
  {
   "cell_type": "code",
   "execution_count": 24,
   "metadata": {
    "collapsed": false
   },
   "outputs": [
    {
     "data": {
      "text/plain": [
       "'Why are there 3376 nulls for OffenseTeam?'"
      ]
     },
     "execution_count": 24,
     "metadata": {},
     "output_type": "execute_result"
    }
   ],
   "source": [
    "todo[0]"
   ]
  },
  {
   "cell_type": "markdown",
   "metadata": {},
   "source": [
    "* Seems like OffenseTeam values are **NULL** for 0 Down, which can occur if there is a TIMEOUT or TWO-MINUTE WARNING. \n",
    "* OffenseTeam values are **NULL** at the end of Quarters and at the End of Games.\n",
    "\n",
    "<center> **Rough Fix**: </center>\n",
    "Will use the rest of the records for the game to get the opposing team and \"back-fill\" those **NULL** values. "
   ]
  },
  {
   "cell_type": "code",
   "execution_count": 81,
   "metadata": {
    "collapsed": false,
    "scrolled": false
   },
   "outputs": [
    {
     "name": "stdout",
     "output_type": "stream",
     "text": [
      "       GameId    GameDate  Quarter  Minute  Second OffenseTeam DefenseTeam  \\\n",
      "0  2016090800  2016-09-08        1       0       0         NaN         CAR   \n",
      "1  2016090800  2016-09-08        4       2       0         NaN         CAR   \n",
      "3  2016091100  2016-09-11        4       0       0         NaN          TB   \n",
      "\n",
      "   Down  ToGo  YardLine  SeriesFirstDown  NextScore         Description  \\\n",
      "0     0     0         0                1          0       END QUARTER 1   \n",
      "1     0     0         0                1          0  TWO-MINUTE WARNING   \n",
      "3     0     0         0                1          0            END GAME   \n",
      "\n",
      "   TeamWin  SeasonYear  Yards     Formation PlayType  IsRush  IsPass  \\\n",
      "0        0        2016      0           NaN      NaN       0       0   \n",
      "1        0        2016      0  UNDER CENTER      NaN       0       0   \n",
      "3        0        2016      0  UNDER CENTER      NaN       0       0   \n",
      "\n",
      "   IsIncomplete  IsTouchdown PassType  IsSack  IsChallenge  \\\n",
      "0             0            0      NaN       0            0   \n",
      "1             0            0      NaN       0            0   \n",
      "3             0            0      NaN       0            0   \n",
      "\n",
      "   IsChallengeReversed  IsMeasurement  IsInterception  IsFumble  IsPenalty  \\\n",
      "0                    0              0               0         0          0   \n",
      "1                    0              0               0         0          0   \n",
      "3                    0              0               0         0          0   \n",
      "\n",
      "   IsTwoPointConversion  IsTwoPointConversionSuccessful RushDirection  \\\n",
      "0                     0                               0           NaN   \n",
      "1                     0                               0           NaN   \n",
      "3                     0                               0           NaN   \n",
      "\n",
      "   YardLineFixed YardLineDirection  IsPenaltyAccepted PenaltyTeam  IsNoPlay  \\\n",
      "0              0               OWN                  0         NaN         0   \n",
      "1              0               OWN                  0         NaN         0   \n",
      "3              0               OWN                  0         NaN         0   \n",
      "\n",
      "  PenaltyType  PenaltyYards  \n",
      "0         NaN             0  \n",
      "1         NaN             0  \n",
      "3         NaN             0  \n"
     ]
    }
   ],
   "source": [
    "# investigating: 'Why are there 3376 nulls for OffenseTeam?'\n",
    "with pd.option_context('display.max_rows', None, 'display.max_columns', None):\n",
    "    #print(nfl[(nfl.OffenseTeam.isnull()) & (nfl.Down == 0)].tail())\n",
    "    #print(nfl[nfl.OffenseTeam.isnull()].tail(10))\n",
    "    #print(nfl[nfl.GameId == 2016090800].tail())\n",
    "    #print(nfl[nfl.OffenseTeam.isnull()].PlayType.value_counts()) # let us look at the 1 pass play\n",
    "    #print(nfl[(nfl.OffenseTeam.isnull()) & (nfl.PlayType == 'PASS')]) # brady pass...end of game\n",
    "    print(nfl[(nfl.OffenseTeam.isnull()) & (nfl.PlayType.isnull())].head(3))"
   ]
  },
  {
   "cell_type": "markdown",
   "metadata": {},
   "source": [
    "#### Working on the solution for 'Why are there 3376 nulls for OffenseTeam?'"
   ]
  },
  {
   "cell_type": "code",
   "execution_count": 99,
   "metadata": {
    "collapsed": false
   },
   "outputs": [
    {
     "data": {
      "text/plain": [
       "256"
      ]
     },
     "execution_count": 99,
     "metadata": {},
     "output_type": "execute_result"
    }
   ],
   "source": [
    "# unique number of GameId\n",
    "nfl.GameId.nunique()"
   ]
  },
  {
   "cell_type": "code",
   "execution_count": 117,
   "metadata": {
    "collapsed": false
   },
   "outputs": [],
   "source": [
    "# create a dictionary of the GameId along with the teams that faced off\n",
    "game_dict = {}\n",
    "for gi in nfl.GameId.unique():\n",
    "    game_dict[gi] = [team for team in nfl[nfl.GameId == gi].OffenseTeam.dropna().drop_duplicates()]"
   ]
  },
  {
   "cell_type": "code",
   "execution_count": 120,
   "metadata": {
    "collapsed": false
   },
   "outputs": [
    {
     "data": {
      "text/plain": [
       "['CAR', 'DEN']"
      ]
     },
     "execution_count": 120,
     "metadata": {},
     "output_type": "execute_result"
    }
   ],
   "source": [
    "game_dict.get(2016090800)"
   ]
  },
  {
   "cell_type": "code",
   "execution_count": 119,
   "metadata": {
    "collapsed": false
   },
   "outputs": [
    {
     "data": {
      "text/plain": [
       "{2016090800: ['CAR', 'DEN'], 2016091100: ['TB', 'ATL'], 2016091101: ['BUF', 'BAL'], 2016091102: ['HOU', 'CHI'], 2016091103: ['GB', 'JAX'], 2016091104: ['SD', 'KC'], 2016091105: ['NO', 'OAK'], 2016091106: ['CIN', 'NYJ'], 2016091107: ['CLE', 'PHI'], 2016091108: ['MIN', 'TEN'], 2016112710: ['OAK', 'CAR'], 2016112711: ['NE', 'NYJ'], 2016091109: ['SEA', 'MIA'], 2016091110: ['NYG', 'DAL'], 2016091111: ['IND', 'DET'], 2016091112: ['NE', 'ARI'], 2016091200: ['WAS', 'PIT'], 2016091500: ['NYJ', 'BUF'], 2016091800: ['SF', 'CAR'], 2016091801: ['CLE', 'BAL'], 2016091802: ['TEN', 'DET'], 2016091803: ['HOU', 'KC'], 2016091804: ['NE', 'MIA'], 2016091805: ['NYG', 'NO'], 2016091806: ['CIN', 'PIT'], 2016091807: ['DAL', 'WAS'], 2016091808: ['ARI', 'TB'], 2016091809: ['LA', 'SEA'], 2016091810: ['IND', 'DEN'], 2016091811: ['OAK', 'ATL'], 2016091812: ['JAX', 'SD'], 2016091813: ['GB', 'MIN'], 2016091900: ['CHI', 'PHI'], 2016092200: ['HOU', 'NE'], 2016092500: ['ARI', 'BUF'], 2016092501: ['CAR', 'MIN'], 2016092502: ['CIN', 'DEN'], 2016092503: ['DET', 'GB'], 2016092504: ['JAX', 'BAL'], 2016102303: ['OAK', 'JAX'], 2016112800: ['GB', 'PHI'], 2016092505: ['CLE', 'MIA'], 2016092506: ['NYG', 'WAS'], 2016102302: ['DET', 'WAS'], 2016092507: ['OAK', 'TEN'], 2016092508: ['SF', 'SEA'], 2016092509: ['LA', 'TB'], 2016092510: ['PHI', 'PIT'], 2016092511: ['IND', 'SD'], 2016092512: ['KC', 'NYJ'], 2016091201: ['LA', 'SF'], 2016092513: ['DAL', 'CHI'], 2016092600: ['ATL', 'NO'], 2016092900: ['CIN', 'MIA'], 2016100200: ['IND', 'JAX'], 2016100201: ['CAR', 'ATL'], 2016100202: ['BAL', 'OAK'], 2016100203: ['CHI', 'DET'], 2016100204: ['HOU', 'TEN'], 2016100205: ['NE', 'BUF'], 2016100206: ['NYJ', 'SEA'], 2016120100: ['MIN', 'DAL'], 2016100207: ['WAS', 'CLE'], 2016101605: ['CAR', 'NO'], 2016101611: ['SEA', 'ATL'], 2016101612: ['IND', 'HOU'], 2016100208: ['DEN', 'TB'], 2016100209: ['ARI', 'LA'], 2016100210: ['NO', 'SD'], 2016100211: ['DAL', 'SF'], 2016101700: ['NYJ', 'ARI'], 2016100212: ['PIT', 'KC'], 2016120400: ['ATL', 'KC'], 2016120401: ['BAL', 'MIA'], 2016100300: ['MIN', 'NYG'], 2016100600: ['ARI', 'SF'], 2016100900: ['BAL', 'WAS'], 2016100901: ['CLE', 'NE'], 2016100902: ['DET', 'PHI'], 2016102000: ['GB', 'CHI'], 2016100903: ['IND', 'CHI'], 2016100904: ['MIA', 'TEN'], 2016100905: ['MIN', 'HOU'], 2016100906: ['NYJ', 'PIT'], 2016100907: ['ATL', 'DEN'], 2016100908: ['DAL', 'CIN'], 2016102400: ['DEN', 'HOU'], 2016102700: ['TEN', 'JAX'], 2016103000: ['CIN', 'WAS'], 2016100909: ['LA', 'BUF'], 2016100910: ['OAK', 'SD'], 2016100911: ['NYG', 'GB'], 2016103001: ['ATL', 'GB'], 2016103002: ['BUF', 'NE'], 2016120402: ['SF', 'CHI'], 2016101000: ['TB', 'CAR'], 2016101300: ['SD', 'DEN'], 2016101600: ['BUF', 'SF'], 2016101601: ['CHI', 'JAX'], 2016101602: ['LA', 'DET'], 2016101603: ['MIA', 'PIT'], 2016101604: ['CIN', 'NE'], 2016120403: ['CIN', 'PHI'], 2016120404: ['GB', 'HOU'], 2016101606: ['BAL', 'NYG'], 2016120405: ['JAX', 'DEN'], 2016101607: ['CLE', 'TEN'], 2016101608: ['WAS', 'PHI'], 2016101609: ['KC', 'OAK'], 2016101610: ['DAL', 'GB'], 2016102300: ['NYG', 'LA'], 2016102301: ['CLE', 'CIN'], 2016120406: ['NE', 'LA'], 2016102304: ['NO', 'KC'], 2016102305: ['MIA', 'BUF'], 2016102308: ['IND', 'TEN'], 2016102309: ['SD', 'ATL'], 2016102306: ['NYJ', 'BAL'], 2016102310: ['SF', 'TB'], 2016102307: ['MIN', 'PHI'], 2017010112: ['DEN', 'OAK'], 2016102311: ['NE', 'PIT'], 2016102312: ['SEA', 'ARI'], 2016121107: ['PHI', 'WAS'], 2016103003: ['CLE', 'NYJ'], 2016103004: ['DET', 'HOU'], 2016103005: ['KC', 'IND'], 2016103006: ['NO', 'SEA'], 2016121112: ['LA', 'ATL'], 2016103007: ['TB', 'OAK'], 2016103008: ['SD', 'DEN'], 2016121108: ['TB', 'NO'], 2016103009: ['ARI', 'CAR'], 2016103010: ['PHI', 'DAL'], 2016103100: ['CHI', 'MIN'], 2016110601: ['PIT', 'BAL'], 2016110602: ['DAL', 'CLE'], 2016110603: ['KC', 'JAX'], 2016110300: ['TB', 'ATL'], 2016110600: ['OAK', 'DEN'], 2016121109: ['TEN', 'DEN'], 2016110604: ['NYJ', 'MIA'], 2016110605: ['MIN', 'DET'], 2016110606: ['PHI', 'NYG'], 2016121110: ['SF', 'NYJ'], 2016110607: ['CAR', 'LA'], 2016121111: ['GB', 'SEA'], 2016110608: ['NO', 'SF'], 2016110609: ['GB', 'IND'], 2017010113: ['LA', 'ARI'], 2016110610: ['SD', 'TEN'], 2016110700: ['SEA', 'BUF'], 2016111000: ['CLE', 'BAL'], 2016111301: ['KC', 'CAR'], 2016111302: ['JAX', 'HOU'], 2016111303: ['DEN', 'NO'], 2016111304: ['NYJ', 'LA'], 2016111305: ['PHI', 'ATL'], 2016111306: ['TB', 'CHI'], 2016111307: ['GB', 'TEN'], 2016111308: ['WAS', 'MIN'], 2016111309: ['SD', 'MIA'], 2016111310: ['ARI', 'SF'], 2016111311: ['PIT', 'DAL'], 2016111312: ['NE', 'SEA'], 2016111400: ['CIN', 'NYG'], 2016111700: ['CAR', 'NO'], 2016112000: ['BUF', 'CIN'], 2016112001: ['PIT', 'CLE'], 2016112002: ['BAL', 'DAL'], 2016112003: ['DET', 'JAX'], 2016112004: ['IND', 'TEN'], 2016112005: ['KC', 'TB'], 2016120407: ['DET', 'NO'], 2016112006: ['ARI', 'MIN'], 2016112007: ['CHI', 'NYG'], 2016120408: ['BUF', 'OAK'], 2016112008: ['LA', 'MIA'], 2016112009: ['SF', 'NE'], 2016120409: ['ARI', 'WAS'], 2016112010: ['PHI', 'SEA'], 2016112011: ['WAS', 'GB'], 2016120410: ['PIT', 'NYG'], 2016112100: ['OAK', 'HOU'], 2016112400: ['DET', 'MIN'], 2016112401: ['DAL', 'WAS'], 2016112402: ['PIT', 'IND'], 2016112700: ['ARI', 'ATL'], 2016120411: ['TB', 'SD'], 2016112701: ['BAL', 'CIN'], 2016112702: ['JAX', 'BUF'], 2016112703: ['CHI', 'TEN'], 2016112704: ['NYG', 'CLE'], 2016112705: ['SD', 'HOU'], 2016112706: ['SF', 'MIA'], 2016120412: ['SEA', 'CAR'], 2016112707: ['NO', 'LA'], 2016112708: ['TB', 'SEA'], 2016112709: ['DEN', 'KC'], 2016120500: ['NYJ', 'IND'], 2016120800: ['OAK', 'KC'], 2016121100: ['PIT', 'BUF'], 2016121101: ['SD', 'CAR'], 2016121102: ['CLE', 'CIN'], 2016121103: ['CHI', 'DET'], 2016121104: ['HOU', 'IND'], 2016121105: ['MIN', 'JAX'], 2017010101: ['BAL', 'CIN'], 2016121106: ['ARI', 'MIA'], 2016121113: ['DAL', 'NYG'], 2016121200: ['BAL', 'NE'], 2016121500: ['SEA', 'LA'], 2016121700: ['NYJ', 'MIA'], 2016121800: ['BAL', 'PHI'], 2016121801: ['BUF', 'CLE'], 2016121802: ['CHI', 'GB'], 2016121803: ['TB', 'DAL'], 2016121804: ['JAX', 'HOU'], 2016121805: ['KC', 'TEN'], 2016121806: ['MIN', 'IND'], 2016121807: ['NYG', 'DET'], 2016121808: ['ARI', 'NO'], 2016121809: ['SF', 'ATL'], 2016121810: ['NE', 'DEN'], 2016121811: ['OAK', 'SD'], 2016121812: ['CIN', 'PIT'], 2016121900: ['WAS', 'CAR'], 2016122200: ['PHI', 'NYG'], 2016122400: ['MIA', 'BUF'], 2016122401: ['CAR', 'ATL'], 2016122402: ['CHI', 'WAS'], 2016122403: ['SD', 'CLE'], 2016122404: ['GB', 'MIN'], 2016122405: ['JAX', 'TEN'], 2016122406: ['NYJ', 'NE'], 2016122407: ['TB', 'NO'], 2016122408: ['OAK', 'IND'], 2016122409: ['SF', 'LA'], 2016122410: ['SEA', 'ARI'], 2016122411: ['CIN', 'HOU'], 2016122500: ['PIT', 'BAL'], 2016122501: ['KC', 'DEN'], 2016122600: ['DET', 'DAL'], 2017010100: ['NO', 'ATL'], 2017010106: ['NYJ', 'BUF'], 2017010107: ['DAL', 'PHI'], 2017010108: ['PIT', 'CLE'], 2017010102: ['GB', 'DET'], 2017010103: ['JAX', 'IND'], 2017010104: ['MIA', 'NE'], 2017010105: ['CHI', 'MIN'], 2017010109: ['CAR', 'TB'], 2017010110: ['TEN', 'HOU'], 2017010114: ['KC', 'SD'], 2017010111: ['WAS', 'NYG'], 2017010115: ['SF', 'SEA']}"
      ]
     },
     "execution_count": 119,
     "metadata": {},
     "output_type": "execute_result"
    }
   ],
   "source": [
    "# double-check that every key only has 2 teams listed\n",
    "game_dict"
   ]
  },
  {
   "cell_type": "code",
   "execution_count": 123,
   "metadata": {
    "collapsed": true
   },
   "outputs": [],
   "source": [
    "tnfl = nfl.copy()"
   ]
  },
  {
   "cell_type": "code",
   "execution_count": 122,
   "metadata": {
    "collapsed": false
   },
   "outputs": [
    {
     "data": {
      "text/html": [
       "<div>\n",
       "<table border=\"1\" class=\"dataframe\">\n",
       "  <thead>\n",
       "    <tr style=\"text-align: right;\">\n",
       "      <th></th>\n",
       "      <th>GameId</th>\n",
       "      <th>GameDate</th>\n",
       "      <th>Quarter</th>\n",
       "      <th>Minute</th>\n",
       "      <th>Second</th>\n",
       "      <th>OffenseTeam</th>\n",
       "      <th>DefenseTeam</th>\n",
       "      <th>Down</th>\n",
       "      <th>ToGo</th>\n",
       "      <th>YardLine</th>\n",
       "      <th>...</th>\n",
       "      <th>IsTwoPointConversion</th>\n",
       "      <th>IsTwoPointConversionSuccessful</th>\n",
       "      <th>RushDirection</th>\n",
       "      <th>YardLineFixed</th>\n",
       "      <th>YardLineDirection</th>\n",
       "      <th>IsPenaltyAccepted</th>\n",
       "      <th>PenaltyTeam</th>\n",
       "      <th>IsNoPlay</th>\n",
       "      <th>PenaltyType</th>\n",
       "      <th>PenaltyYards</th>\n",
       "    </tr>\n",
       "  </thead>\n",
       "  <tbody>\n",
       "    <tr>\n",
       "      <th>0</th>\n",
       "      <td>2016090800</td>\n",
       "      <td>2016-09-08</td>\n",
       "      <td>1</td>\n",
       "      <td>0</td>\n",
       "      <td>0</td>\n",
       "      <td>NaN</td>\n",
       "      <td>CAR</td>\n",
       "      <td>0</td>\n",
       "      <td>0</td>\n",
       "      <td>0</td>\n",
       "      <td>...</td>\n",
       "      <td>0</td>\n",
       "      <td>0</td>\n",
       "      <td>NaN</td>\n",
       "      <td>0</td>\n",
       "      <td>OWN</td>\n",
       "      <td>0</td>\n",
       "      <td>NaN</td>\n",
       "      <td>0</td>\n",
       "      <td>NaN</td>\n",
       "      <td>0</td>\n",
       "    </tr>\n",
       "    <tr>\n",
       "      <th>1</th>\n",
       "      <td>2016090800</td>\n",
       "      <td>2016-09-08</td>\n",
       "      <td>4</td>\n",
       "      <td>2</td>\n",
       "      <td>0</td>\n",
       "      <td>NaN</td>\n",
       "      <td>CAR</td>\n",
       "      <td>0</td>\n",
       "      <td>0</td>\n",
       "      <td>0</td>\n",
       "      <td>...</td>\n",
       "      <td>0</td>\n",
       "      <td>0</td>\n",
       "      <td>NaN</td>\n",
       "      <td>0</td>\n",
       "      <td>OWN</td>\n",
       "      <td>0</td>\n",
       "      <td>NaN</td>\n",
       "      <td>0</td>\n",
       "      <td>NaN</td>\n",
       "      <td>0</td>\n",
       "    </tr>\n",
       "    <tr>\n",
       "      <th>2</th>\n",
       "      <td>2016091100</td>\n",
       "      <td>2016-09-11</td>\n",
       "      <td>4</td>\n",
       "      <td>6</td>\n",
       "      <td>18</td>\n",
       "      <td>NaN</td>\n",
       "      <td>TB</td>\n",
       "      <td>0</td>\n",
       "      <td>0</td>\n",
       "      <td>0</td>\n",
       "      <td>...</td>\n",
       "      <td>0</td>\n",
       "      <td>0</td>\n",
       "      <td>NaN</td>\n",
       "      <td>0</td>\n",
       "      <td>OWN</td>\n",
       "      <td>0</td>\n",
       "      <td>NaN</td>\n",
       "      <td>0</td>\n",
       "      <td>NaN</td>\n",
       "      <td>0</td>\n",
       "    </tr>\n",
       "    <tr>\n",
       "      <th>3</th>\n",
       "      <td>2016091100</td>\n",
       "      <td>2016-09-11</td>\n",
       "      <td>4</td>\n",
       "      <td>0</td>\n",
       "      <td>0</td>\n",
       "      <td>NaN</td>\n",
       "      <td>TB</td>\n",
       "      <td>0</td>\n",
       "      <td>0</td>\n",
       "      <td>0</td>\n",
       "      <td>...</td>\n",
       "      <td>0</td>\n",
       "      <td>0</td>\n",
       "      <td>NaN</td>\n",
       "      <td>0</td>\n",
       "      <td>OWN</td>\n",
       "      <td>0</td>\n",
       "      <td>NaN</td>\n",
       "      <td>0</td>\n",
       "      <td>NaN</td>\n",
       "      <td>0</td>\n",
       "    </tr>\n",
       "    <tr>\n",
       "      <th>4</th>\n",
       "      <td>2016091101</td>\n",
       "      <td>2016-09-11</td>\n",
       "      <td>2</td>\n",
       "      <td>0</td>\n",
       "      <td>0</td>\n",
       "      <td>NaN</td>\n",
       "      <td>BUF</td>\n",
       "      <td>0</td>\n",
       "      <td>0</td>\n",
       "      <td>0</td>\n",
       "      <td>...</td>\n",
       "      <td>0</td>\n",
       "      <td>0</td>\n",
       "      <td>NaN</td>\n",
       "      <td>0</td>\n",
       "      <td>OWN</td>\n",
       "      <td>0</td>\n",
       "      <td>NaN</td>\n",
       "      <td>0</td>\n",
       "      <td>NaN</td>\n",
       "      <td>0</td>\n",
       "    </tr>\n",
       "  </tbody>\n",
       "</table>\n",
       "<p>5 rows × 40 columns</p>\n",
       "</div>"
      ],
      "text/plain": [
       "       GameId    GameDate  Quarter  Minute  Second OffenseTeam DefenseTeam  \\\n",
       "0  2016090800  2016-09-08        1       0       0         NaN         CAR   \n",
       "1  2016090800  2016-09-08        4       2       0         NaN         CAR   \n",
       "2  2016091100  2016-09-11        4       6      18         NaN          TB   \n",
       "3  2016091100  2016-09-11        4       0       0         NaN          TB   \n",
       "4  2016091101  2016-09-11        2       0       0         NaN         BUF   \n",
       "\n",
       "   Down  ToGo  YardLine      ...       IsTwoPointConversion  \\\n",
       "0     0     0         0      ...                          0   \n",
       "1     0     0         0      ...                          0   \n",
       "2     0     0         0      ...                          0   \n",
       "3     0     0         0      ...                          0   \n",
       "4     0     0         0      ...                          0   \n",
       "\n",
       "   IsTwoPointConversionSuccessful RushDirection  YardLineFixed  \\\n",
       "0                               0           NaN              0   \n",
       "1                               0           NaN              0   \n",
       "2                               0           NaN              0   \n",
       "3                               0           NaN              0   \n",
       "4                               0           NaN              0   \n",
       "\n",
       "   YardLineDirection  IsPenaltyAccepted PenaltyTeam IsNoPlay  PenaltyType  \\\n",
       "0                OWN                  0         NaN        0          NaN   \n",
       "1                OWN                  0         NaN        0          NaN   \n",
       "2                OWN                  0         NaN        0          NaN   \n",
       "3                OWN                  0         NaN        0          NaN   \n",
       "4                OWN                  0         NaN        0          NaN   \n",
       "\n",
       "   PenaltyYards  \n",
       "0             0  \n",
       "1             0  \n",
       "2             0  \n",
       "3             0  \n",
       "4             0  \n",
       "\n",
       "[5 rows x 40 columns]"
      ]
     },
     "execution_count": 122,
     "metadata": {},
     "output_type": "execute_result"
    }
   ],
   "source": [
    "# \"back-fill\" Offense Teams where value is null\n",
    "tnfl[tnfl.OffenseTeam.isnull()].head()\n",
    "\n",
    "tnfl.fillna"
   ]
  },
  {
   "cell_type": "code",
   "execution_count": null,
   "metadata": {
    "collapsed": true
   },
   "outputs": [],
   "source": []
  },
  {
   "cell_type": "code",
   "execution_count": null,
   "metadata": {
    "collapsed": true
   },
   "outputs": [],
   "source": []
  },
  {
   "cell_type": "markdown",
   "metadata": {},
   "source": [
    "## Get the information for Patriots"
   ]
  },
  {
   "cell_type": "code",
   "execution_count": 75,
   "metadata": {
    "collapsed": false
   },
   "outputs": [
    {
     "data": {
      "text/plain": [
       "GameId      2763\n",
       "GameDate    2763\n",
       "dtype: int64"
      ]
     },
     "execution_count": 75,
     "metadata": {},
     "output_type": "execute_result"
    }
   ],
   "source": [
    "nfl[(nfl['OffenseTeam'] == 'NE') | (nfl['DefenseTeam'] == 'NE')].count().head(2)"
   ]
  },
  {
   "cell_type": "code",
   "execution_count": 76,
   "metadata": {
    "collapsed": false
   },
   "outputs": [
    {
     "data": {
      "text/plain": [
       "(2763, 40)"
      ]
     },
     "execution_count": 76,
     "metadata": {},
     "output_type": "execute_result"
    }
   ],
   "source": [
    "pats = nfl[(nfl['OffenseTeam'] == 'NE') | (nfl['DefenseTeam'] == 'NE')]\n",
    "pats.shape"
   ]
  },
  {
   "cell_type": "code",
   "execution_count": 77,
   "metadata": {
    "collapsed": false
   },
   "outputs": [
    {
     "data": {
      "text/plain": [
       "Index(['GameId', 'GameDate', 'Quarter', 'Minute', 'Second', 'OffenseTeam',\n",
       "       'DefenseTeam', 'Down', 'ToGo', 'YardLine', 'SeriesFirstDown',\n",
       "       'NextScore', 'Description', 'TeamWin', 'SeasonYear', 'Yards',\n",
       "       'Formation', 'PlayType', 'IsRush', 'IsPass', 'IsIncomplete',\n",
       "       'IsTouchdown', 'PassType', 'IsSack', 'IsChallenge',\n",
       "       'IsChallengeReversed', 'IsMeasurement', 'IsInterception', 'IsFumble',\n",
       "       'IsPenalty', 'IsTwoPointConversion', 'IsTwoPointConversionSuccessful',\n",
       "       'RushDirection', 'YardLineFixed', 'YardLineDirection',\n",
       "       'IsPenaltyAccepted', 'PenaltyTeam', 'IsNoPlay', 'PenaltyType',\n",
       "       'PenaltyYards'],\n",
       "      dtype='object')"
      ]
     },
     "execution_count": 77,
     "metadata": {},
     "output_type": "execute_result"
    }
   ],
   "source": [
    "pats.columns"
   ]
  },
  {
   "cell_type": "code",
   "execution_count": 80,
   "metadata": {
    "collapsed": false
   },
   "outputs": [
    {
     "data": {
      "text/html": [
       "<div>\n",
       "<table border=\"1\" class=\"dataframe\">\n",
       "  <thead>\n",
       "    <tr style=\"text-align: right;\">\n",
       "      <th></th>\n",
       "      <th>GameId</th>\n",
       "      <th>GameDate</th>\n",
       "      <th>Quarter</th>\n",
       "      <th>Minute</th>\n",
       "      <th>Second</th>\n",
       "      <th>OffenseTeam</th>\n",
       "      <th>DefenseTeam</th>\n",
       "      <th>Down</th>\n",
       "      <th>ToGo</th>\n",
       "      <th>YardLine</th>\n",
       "      <th>...</th>\n",
       "      <th>IsTwoPointConversion</th>\n",
       "      <th>IsTwoPointConversionSuccessful</th>\n",
       "      <th>RushDirection</th>\n",
       "      <th>YardLineFixed</th>\n",
       "      <th>YardLineDirection</th>\n",
       "      <th>IsPenaltyAccepted</th>\n",
       "      <th>PenaltyTeam</th>\n",
       "      <th>IsNoPlay</th>\n",
       "      <th>PenaltyType</th>\n",
       "      <th>PenaltyYards</th>\n",
       "    </tr>\n",
       "  </thead>\n",
       "  <tbody>\n",
       "  </tbody>\n",
       "</table>\n",
       "<p>0 rows × 40 columns</p>\n",
       "</div>"
      ],
      "text/plain": [
       "Empty DataFrame\n",
       "Columns: [GameId, GameDate, Quarter, Minute, Second, OffenseTeam, DefenseTeam, Down, ToGo, YardLine, SeriesFirstDown, NextScore, Description, TeamWin, SeasonYear, Yards, Formation, PlayType, IsRush, IsPass, IsIncomplete, IsTouchdown, PassType, IsSack, IsChallenge, IsChallengeReversed, IsMeasurement, IsInterception, IsFumble, IsPenalty, IsTwoPointConversion, IsTwoPointConversionSuccessful, RushDirection, YardLineFixed, YardLineDirection, IsPenaltyAccepted, PenaltyTeam, IsNoPlay, PenaltyType, PenaltyYards]\n",
       "Index: []\n",
       "\n",
       "[0 rows x 40 columns]"
      ]
     },
     "execution_count": 80,
     "metadata": {},
     "output_type": "execute_result"
    }
   ],
   "source": [
    "pats[pats.index == 22974]"
   ]
  },
  {
   "cell_type": "code",
   "execution_count": 43,
   "metadata": {
    "collapsed": false
   },
   "outputs": [
    {
     "data": {
      "text/plain": [
       "PASS                    0.448136\n",
       "RUSH                    0.294943\n",
       "PUNT                    0.059062\n",
       "KICK OFF                0.059062\n",
       "EXTRA POINT             0.026947\n",
       "SACK                    0.023256\n",
       "FIELD GOAL              0.022518\n",
       "TIMEOUT                 0.018826\n",
       "NO PLAY                 0.016980\n",
       "SCRAMBLE                0.015504\n",
       "QB KNEEL                0.008121\n",
       "FUMBLES                 0.002215\n",
       "TWO-POINT CONVERSION    0.001846\n",
       "EXCEPTION               0.001477\n",
       "CLOCK STOP              0.001107\n",
       "Name: PlayType, dtype: float64"
      ]
     },
     "execution_count": 43,
     "metadata": {},
     "output_type": "execute_result"
    }
   ],
   "source": [
    "pats.PlayType.value_counts(normalize=True)"
   ]
  },
  {
   "cell_type": "code",
   "execution_count": 69,
   "metadata": {
    "collapsed": true
   },
   "outputs": [],
   "source": [
    "take_aways.append(\"44.81% of the entire Patriot's plays were pass plays\")\n",
    "take_aways.append(\"29.49% of the entire Patriot's plays were rush plays\")"
   ]
  },
  {
   "cell_type": "code",
   "execution_count": 70,
   "metadata": {
    "collapsed": false
   },
   "outputs": [
    {
     "data": {
      "text/plain": [
       "[\"44.81% of the entire Patriot's plays were pass plays\",\n",
       " \"29.49% of the entire Patriot's plays were rush plays\"]"
      ]
     },
     "execution_count": 70,
     "metadata": {},
     "output_type": "execute_result"
    }
   ],
   "source": [
    "take_aways"
   ]
  },
  {
   "cell_type": "code",
   "execution_count": 45,
   "metadata": {
    "collapsed": false
   },
   "outputs": [
    {
     "data": {
      "text/plain": [
       "PASS                    0.422414\n",
       "RUSH                    0.325431\n",
       "KICK OFF                0.067529\n",
       "PUNT                    0.054598\n",
       "EXTRA POINT             0.035201\n",
       "FIELD GOAL              0.022989\n",
       "SACK                    0.020115\n",
       "NO PLAY                 0.017241\n",
       "SCRAMBLE                0.015086\n",
       "QB KNEEL                0.013649\n",
       "FUMBLES                 0.002874\n",
       "TWO-POINT CONVERSION    0.001437\n",
       "EXCEPTION               0.000718\n",
       "CLOCK STOP              0.000718\n",
       "Name: PlayType, dtype: float64"
      ]
     },
     "execution_count": 45,
     "metadata": {},
     "output_type": "execute_result"
    }
   ],
   "source": [
    "pats[pats.OffenseTeam == 'NE'].PlayType.value_counts(normalize=True)"
   ]
  },
  {
   "cell_type": "code",
   "execution_count": 82,
   "metadata": {
    "collapsed": false
   },
   "outputs": [
    {
     "data": {
      "text/html": [
       "<div>\n",
       "<table border=\"1\" class=\"dataframe\">\n",
       "  <thead>\n",
       "    <tr style=\"text-align: right;\">\n",
       "      <th></th>\n",
       "      <th>OffenseTeam</th>\n",
       "      <th>DefenseTeam</th>\n",
       "      <th>Down</th>\n",
       "      <th>ToGo</th>\n",
       "      <th>YardLine</th>\n",
       "      <th>SeriesFirstDown</th>\n",
       "      <th>NextScore</th>\n",
       "      <th>Description</th>\n",
       "      <th>TeamWin</th>\n",
       "      <th>SeasonYear</th>\n",
       "      <th>Yards</th>\n",
       "      <th>Formation</th>\n",
       "      <th>PlayType</th>\n",
       "      <th>IsRush</th>\n",
       "      <th>IsPass</th>\n",
       "    </tr>\n",
       "  </thead>\n",
       "  <tbody>\n",
       "  </tbody>\n",
       "</table>\n",
       "</div>"
      ],
      "text/plain": [
       "Empty DataFrame\n",
       "Columns: [OffenseTeam, DefenseTeam, Down, ToGo, YardLine, SeriesFirstDown, NextScore, Description, TeamWin, SeasonYear, Yards, Formation, PlayType, IsRush, IsPass]\n",
       "Index: []"
      ]
     },
     "execution_count": 82,
     "metadata": {},
     "output_type": "execute_result"
    }
   ],
   "source": [
    "pats[(pats.OffenseTeam == 'NE') & (pats.PlayType == 'EXCEPTION')].iloc[1:10,5:20]"
   ]
  },
  {
   "cell_type": "code",
   "execution_count": 85,
   "metadata": {
    "collapsed": false
   },
   "outputs": [
    {
     "data": {
      "text/html": [
       "<div>\n",
       "<table border=\"1\" class=\"dataframe\">\n",
       "  <thead>\n",
       "    <tr style=\"text-align: right;\">\n",
       "      <th></th>\n",
       "      <th>GameId</th>\n",
       "      <th>GameDate</th>\n",
       "      <th>Quarter</th>\n",
       "      <th>Minute</th>\n",
       "      <th>Second</th>\n",
       "      <th>OffenseTeam</th>\n",
       "      <th>DefenseTeam</th>\n",
       "      <th>Down</th>\n",
       "      <th>ToGo</th>\n",
       "      <th>YardLine</th>\n",
       "      <th>...</th>\n",
       "      <th>IsTwoPointConversion</th>\n",
       "      <th>IsTwoPointConversionSuccessful</th>\n",
       "      <th>RushDirection</th>\n",
       "      <th>YardLineFixed</th>\n",
       "      <th>YardLineDirection</th>\n",
       "      <th>IsPenaltyAccepted</th>\n",
       "      <th>PenaltyTeam</th>\n",
       "      <th>IsNoPlay</th>\n",
       "      <th>PenaltyType</th>\n",
       "      <th>PenaltyYards</th>\n",
       "    </tr>\n",
       "  </thead>\n",
       "  <tbody>\n",
       "    <tr>\n",
       "      <th>27511</th>\n",
       "      <td>2016103002</td>\n",
       "      <td>2016-10-30</td>\n",
       "      <td>1</td>\n",
       "      <td>0</td>\n",
       "      <td>0</td>\n",
       "      <td>NaN</td>\n",
       "      <td>NE</td>\n",
       "      <td>0</td>\n",
       "      <td>0</td>\n",
       "      <td>0</td>\n",
       "      <td>...</td>\n",
       "      <td>0</td>\n",
       "      <td>0</td>\n",
       "      <td>NaN</td>\n",
       "      <td>0</td>\n",
       "      <td>OWN</td>\n",
       "      <td>0</td>\n",
       "      <td>NaN</td>\n",
       "      <td>0</td>\n",
       "      <td>NaN</td>\n",
       "      <td>0</td>\n",
       "    </tr>\n",
       "    <tr>\n",
       "      <th>27592</th>\n",
       "      <td>2016103002</td>\n",
       "      <td>2016-10-30</td>\n",
       "      <td>3</td>\n",
       "      <td>0</td>\n",
       "      <td>0</td>\n",
       "      <td>NaN</td>\n",
       "      <td>NE</td>\n",
       "      <td>0</td>\n",
       "      <td>0</td>\n",
       "      <td>0</td>\n",
       "      <td>...</td>\n",
       "      <td>0</td>\n",
       "      <td>0</td>\n",
       "      <td>NaN</td>\n",
       "      <td>0</td>\n",
       "      <td>OWN</td>\n",
       "      <td>0</td>\n",
       "      <td>NaN</td>\n",
       "      <td>0</td>\n",
       "      <td>NaN</td>\n",
       "      <td>0</td>\n",
       "    </tr>\n",
       "    <tr>\n",
       "      <th>27637</th>\n",
       "      <td>2016103002</td>\n",
       "      <td>2016-10-30</td>\n",
       "      <td>4</td>\n",
       "      <td>0</td>\n",
       "      <td>0</td>\n",
       "      <td>NaN</td>\n",
       "      <td>NE</td>\n",
       "      <td>0</td>\n",
       "      <td>0</td>\n",
       "      <td>0</td>\n",
       "      <td>...</td>\n",
       "      <td>0</td>\n",
       "      <td>0</td>\n",
       "      <td>NaN</td>\n",
       "      <td>0</td>\n",
       "      <td>OWN</td>\n",
       "      <td>0</td>\n",
       "      <td>NaN</td>\n",
       "      <td>0</td>\n",
       "      <td>NaN</td>\n",
       "      <td>0</td>\n",
       "    </tr>\n",
       "    <tr>\n",
       "      <th>38349</th>\n",
       "      <td>2016120406</td>\n",
       "      <td>2016-12-04</td>\n",
       "      <td>1</td>\n",
       "      <td>14</td>\n",
       "      <td>57</td>\n",
       "      <td>NE</td>\n",
       "      <td>LA</td>\n",
       "      <td>1</td>\n",
       "      <td>10</td>\n",
       "      <td>20</td>\n",
       "      <td>...</td>\n",
       "      <td>0</td>\n",
       "      <td>0</td>\n",
       "      <td>NaN</td>\n",
       "      <td>20</td>\n",
       "      <td>OWN</td>\n",
       "      <td>0</td>\n",
       "      <td>NaN</td>\n",
       "      <td>0</td>\n",
       "      <td>NaN</td>\n",
       "      <td>0</td>\n",
       "    </tr>\n",
       "  </tbody>\n",
       "</table>\n",
       "<p>4 rows × 40 columns</p>\n",
       "</div>"
      ],
      "text/plain": [
       "           GameId    GameDate  Quarter  Minute  Second OffenseTeam  \\\n",
       "27511  2016103002  2016-10-30        1       0       0         NaN   \n",
       "27592  2016103002  2016-10-30        3       0       0         NaN   \n",
       "27637  2016103002  2016-10-30        4       0       0         NaN   \n",
       "38349  2016120406  2016-12-04        1      14      57          NE   \n",
       "\n",
       "      DefenseTeam  Down  ToGo  YardLine      ...       IsTwoPointConversion  \\\n",
       "27511          NE     0     0         0      ...                          0   \n",
       "27592          NE     0     0         0      ...                          0   \n",
       "27637          NE     0     0         0      ...                          0   \n",
       "38349          LA     1    10        20      ...                          0   \n",
       "\n",
       "       IsTwoPointConversionSuccessful RushDirection  YardLineFixed  \\\n",
       "27511                               0           NaN              0   \n",
       "27592                               0           NaN              0   \n",
       "27637                               0           NaN              0   \n",
       "38349                               0           NaN             20   \n",
       "\n",
       "       YardLineDirection  IsPenaltyAccepted PenaltyTeam IsNoPlay  PenaltyType  \\\n",
       "27511                OWN                  0         NaN        0          NaN   \n",
       "27592                OWN                  0         NaN        0          NaN   \n",
       "27637                OWN                  0         NaN        0          NaN   \n",
       "38349                OWN                  0         NaN        0          NaN   \n",
       "\n",
       "       PenaltyYards  \n",
       "27511             0  \n",
       "27592             0  \n",
       "27637             0  \n",
       "38349             0  \n",
       "\n",
       "[4 rows x 40 columns]"
      ]
     },
     "execution_count": 85,
     "metadata": {},
     "output_type": "execute_result"
    }
   ],
   "source": [
    "pats[pats.PlayType == 'EXCEPTION']"
   ]
  },
  {
   "cell_type": "code",
   "execution_count": 52,
   "metadata": {
    "collapsed": false
   },
   "outputs": [
    {
     "data": {
      "text/html": [
       "<div>\n",
       "<table border=\"1\" class=\"dataframe\">\n",
       "  <thead>\n",
       "    <tr style=\"text-align: right;\">\n",
       "      <th></th>\n",
       "      <th>GameId</th>\n",
       "      <th>GameDate</th>\n",
       "      <th>Quarter</th>\n",
       "      <th>Minute</th>\n",
       "      <th>Second</th>\n",
       "      <th>OffenseTeam</th>\n",
       "      <th>DefenseTeam</th>\n",
       "      <th>Down</th>\n",
       "      <th>ToGo</th>\n",
       "      <th>YardLine</th>\n",
       "      <th>SeriesFirstDown</th>\n",
       "      <th>NextScore</th>\n",
       "      <th>Description</th>\n",
       "      <th>TeamWin</th>\n",
       "      <th>SeasonYear</th>\n",
       "      <th>Yards</th>\n",
       "      <th>Formation</th>\n",
       "      <th>PlayType</th>\n",
       "      <th>IsRush</th>\n",
       "      <th>IsPass</th>\n",
       "      <th>IsIncomplete</th>\n",
       "      <th>IsTouchdown</th>\n",
       "      <th>PassType</th>\n",
       "      <th>IsSack</th>\n",
       "      <th>IsChallenge</th>\n",
       "      <th>IsChallengeReversed</th>\n",
       "      <th>IsMeasurement</th>\n",
       "      <th>IsInterception</th>\n",
       "      <th>IsFumble</th>\n",
       "      <th>IsPenalty</th>\n",
       "      <th>IsTwoPointConversion</th>\n",
       "      <th>IsTwoPointConversionSuccessful</th>\n",
       "      <th>RushDirection</th>\n",
       "      <th>YardLineFixed</th>\n",
       "      <th>YardLineDirection</th>\n",
       "      <th>IsPenaltyAccepted</th>\n",
       "      <th>PenaltyTeam</th>\n",
       "      <th>IsNoPlay</th>\n",
       "      <th>PenaltyType</th>\n",
       "      <th>PenaltyYards</th>\n",
       "    </tr>\n",
       "  </thead>\n",
       "  <tbody>\n",
       "    <tr>\n",
       "      <th>56</th>\n",
       "      <td>2016112711</td>\n",
       "      <td>2016-11-27</td>\n",
       "      <td>2</td>\n",
       "      <td>7</td>\n",
       "      <td>13</td>\n",
       "      <td>NE</td>\n",
       "      <td>NYJ</td>\n",
       "      <td>1</td>\n",
       "      <td>5</td>\n",
       "      <td>95</td>\n",
       "      <td>0</td>\n",
       "      <td>0</td>\n",
       "      <td>(7:13) (SHOTGUN) 33-D.LEWIS LEFT GUARD TO NYJ ...</td>\n",
       "      <td>0</td>\n",
       "      <td>2016</td>\n",
       "      <td>1</td>\n",
       "      <td>SHOTGUN</td>\n",
       "      <td>RUSH</td>\n",
       "      <td>1</td>\n",
       "      <td>0</td>\n",
       "      <td>0</td>\n",
       "      <td>0</td>\n",
       "      <td>NaN</td>\n",
       "      <td>0</td>\n",
       "      <td>0</td>\n",
       "      <td>0</td>\n",
       "      <td>0</td>\n",
       "      <td>0</td>\n",
       "      <td>0</td>\n",
       "      <td>0</td>\n",
       "      <td>0</td>\n",
       "      <td>0</td>\n",
       "      <td>LEFT GUARD</td>\n",
       "      <td>5</td>\n",
       "      <td>OPP</td>\n",
       "      <td>0</td>\n",
       "      <td>NaN</td>\n",
       "      <td>0</td>\n",
       "      <td>NaN</td>\n",
       "      <td>0</td>\n",
       "    </tr>\n",
       "    <tr>\n",
       "      <th>57</th>\n",
       "      <td>2016112711</td>\n",
       "      <td>2016-11-27</td>\n",
       "      <td>2</td>\n",
       "      <td>6</td>\n",
       "      <td>35</td>\n",
       "      <td>NE</td>\n",
       "      <td>NYJ</td>\n",
       "      <td>2</td>\n",
       "      <td>4</td>\n",
       "      <td>96</td>\n",
       "      <td>0</td>\n",
       "      <td>0</td>\n",
       "      <td>(6:35) (SHOTGUN) 12-T.BRADY TO NYJ 9 FOR -5 YA...</td>\n",
       "      <td>0</td>\n",
       "      <td>2016</td>\n",
       "      <td>-5</td>\n",
       "      <td>SHOTGUN</td>\n",
       "      <td>PASS</td>\n",
       "      <td>0</td>\n",
       "      <td>1</td>\n",
       "      <td>0</td>\n",
       "      <td>1</td>\n",
       "      <td>SHORT RIGHT</td>\n",
       "      <td>0</td>\n",
       "      <td>0</td>\n",
       "      <td>0</td>\n",
       "      <td>0</td>\n",
       "      <td>0</td>\n",
       "      <td>1</td>\n",
       "      <td>0</td>\n",
       "      <td>0</td>\n",
       "      <td>0</td>\n",
       "      <td>NaN</td>\n",
       "      <td>4</td>\n",
       "      <td>OPP</td>\n",
       "      <td>0</td>\n",
       "      <td>NaN</td>\n",
       "      <td>0</td>\n",
       "      <td>NaN</td>\n",
       "      <td>0</td>\n",
       "    </tr>\n",
       "    <tr>\n",
       "      <th>58</th>\n",
       "      <td>2016112711</td>\n",
       "      <td>2016-11-27</td>\n",
       "      <td>2</td>\n",
       "      <td>6</td>\n",
       "      <td>29</td>\n",
       "      <td>NE</td>\n",
       "      <td>NYJ</td>\n",
       "      <td>0</td>\n",
       "      <td>0</td>\n",
       "      <td>85</td>\n",
       "      <td>1</td>\n",
       "      <td>0</td>\n",
       "      <td>3-S.GOSTKOWSKI EXTRA POINT IS GOOD, CENTER-49-...</td>\n",
       "      <td>0</td>\n",
       "      <td>2016</td>\n",
       "      <td>0</td>\n",
       "      <td>UNDER CENTER</td>\n",
       "      <td>EXTRA POINT</td>\n",
       "      <td>0</td>\n",
       "      <td>0</td>\n",
       "      <td>0</td>\n",
       "      <td>0</td>\n",
       "      <td>NaN</td>\n",
       "      <td>0</td>\n",
       "      <td>0</td>\n",
       "      <td>0</td>\n",
       "      <td>0</td>\n",
       "      <td>0</td>\n",
       "      <td>0</td>\n",
       "      <td>0</td>\n",
       "      <td>0</td>\n",
       "      <td>0</td>\n",
       "      <td>NaN</td>\n",
       "      <td>15</td>\n",
       "      <td>OPP</td>\n",
       "      <td>0</td>\n",
       "      <td>NaN</td>\n",
       "      <td>0</td>\n",
       "      <td>NaN</td>\n",
       "      <td>0</td>\n",
       "    </tr>\n",
       "    <tr>\n",
       "      <th>59</th>\n",
       "      <td>2016112711</td>\n",
       "      <td>2016-11-27</td>\n",
       "      <td>2</td>\n",
       "      <td>3</td>\n",
       "      <td>24</td>\n",
       "      <td>NYJ</td>\n",
       "      <td>NE</td>\n",
       "      <td>1</td>\n",
       "      <td>10</td>\n",
       "      <td>58</td>\n",
       "      <td>0</td>\n",
       "      <td>0</td>\n",
       "      <td>(3:24) 22-M.FORTE LEFT GUARD TO NE 39 FOR 3 YA...</td>\n",
       "      <td>0</td>\n",
       "      <td>2016</td>\n",
       "      <td>3</td>\n",
       "      <td>UNDER CENTER</td>\n",
       "      <td>RUSH</td>\n",
       "      <td>1</td>\n",
       "      <td>0</td>\n",
       "      <td>0</td>\n",
       "      <td>0</td>\n",
       "      <td>NaN</td>\n",
       "      <td>0</td>\n",
       "      <td>0</td>\n",
       "      <td>0</td>\n",
       "      <td>0</td>\n",
       "      <td>0</td>\n",
       "      <td>0</td>\n",
       "      <td>0</td>\n",
       "      <td>0</td>\n",
       "      <td>0</td>\n",
       "      <td>LEFT GUARD</td>\n",
       "      <td>42</td>\n",
       "      <td>OPP</td>\n",
       "      <td>0</td>\n",
       "      <td>NaN</td>\n",
       "      <td>0</td>\n",
       "      <td>NaN</td>\n",
       "      <td>0</td>\n",
       "    </tr>\n",
       "    <tr>\n",
       "      <th>60</th>\n",
       "      <td>2016112711</td>\n",
       "      <td>2016-11-27</td>\n",
       "      <td>2</td>\n",
       "      <td>2</td>\n",
       "      <td>40</td>\n",
       "      <td>NYJ</td>\n",
       "      <td>NE</td>\n",
       "      <td>2</td>\n",
       "      <td>7</td>\n",
       "      <td>61</td>\n",
       "      <td>0</td>\n",
       "      <td>0</td>\n",
       "      <td>(2:40) (SHOTGUN) 14-R.FITZPATRICK PASS SHORT R...</td>\n",
       "      <td>0</td>\n",
       "      <td>2016</td>\n",
       "      <td>3</td>\n",
       "      <td>SHOTGUN</td>\n",
       "      <td>PASS</td>\n",
       "      <td>0</td>\n",
       "      <td>1</td>\n",
       "      <td>0</td>\n",
       "      <td>0</td>\n",
       "      <td>SHORT RIGHT</td>\n",
       "      <td>0</td>\n",
       "      <td>0</td>\n",
       "      <td>0</td>\n",
       "      <td>0</td>\n",
       "      <td>0</td>\n",
       "      <td>0</td>\n",
       "      <td>0</td>\n",
       "      <td>0</td>\n",
       "      <td>0</td>\n",
       "      <td>NaN</td>\n",
       "      <td>39</td>\n",
       "      <td>OPP</td>\n",
       "      <td>0</td>\n",
       "      <td>NaN</td>\n",
       "      <td>0</td>\n",
       "      <td>NaN</td>\n",
       "      <td>0</td>\n",
       "    </tr>\n",
       "  </tbody>\n",
       "</table>\n",
       "</div>"
      ],
      "text/plain": [
       "        GameId    GameDate  Quarter  Minute  Second OffenseTeam DefenseTeam  \\\n",
       "56  2016112711  2016-11-27        2       7      13          NE         NYJ   \n",
       "57  2016112711  2016-11-27        2       6      35          NE         NYJ   \n",
       "58  2016112711  2016-11-27        2       6      29          NE         NYJ   \n",
       "59  2016112711  2016-11-27        2       3      24         NYJ          NE   \n",
       "60  2016112711  2016-11-27        2       2      40         NYJ          NE   \n",
       "\n",
       "    Down  ToGo  YardLine  SeriesFirstDown  NextScore  \\\n",
       "56     1     5        95                0          0   \n",
       "57     2     4        96                0          0   \n",
       "58     0     0        85                1          0   \n",
       "59     1    10        58                0          0   \n",
       "60     2     7        61                0          0   \n",
       "\n",
       "                                          Description  TeamWin  SeasonYear  \\\n",
       "56  (7:13) (SHOTGUN) 33-D.LEWIS LEFT GUARD TO NYJ ...        0        2016   \n",
       "57  (6:35) (SHOTGUN) 12-T.BRADY TO NYJ 9 FOR -5 YA...        0        2016   \n",
       "58  3-S.GOSTKOWSKI EXTRA POINT IS GOOD, CENTER-49-...        0        2016   \n",
       "59  (3:24) 22-M.FORTE LEFT GUARD TO NE 39 FOR 3 YA...        0        2016   \n",
       "60  (2:40) (SHOTGUN) 14-R.FITZPATRICK PASS SHORT R...        0        2016   \n",
       "\n",
       "    Yards     Formation     PlayType  IsRush  IsPass  IsIncomplete  \\\n",
       "56      1       SHOTGUN         RUSH       1       0             0   \n",
       "57     -5       SHOTGUN         PASS       0       1             0   \n",
       "58      0  UNDER CENTER  EXTRA POINT       0       0             0   \n",
       "59      3  UNDER CENTER         RUSH       1       0             0   \n",
       "60      3       SHOTGUN         PASS       0       1             0   \n",
       "\n",
       "    IsTouchdown     PassType  IsSack  IsChallenge  IsChallengeReversed  \\\n",
       "56            0          NaN       0            0                    0   \n",
       "57            1  SHORT RIGHT       0            0                    0   \n",
       "58            0          NaN       0            0                    0   \n",
       "59            0          NaN       0            0                    0   \n",
       "60            0  SHORT RIGHT       0            0                    0   \n",
       "\n",
       "    IsMeasurement  IsInterception  IsFumble  IsPenalty  IsTwoPointConversion  \\\n",
       "56              0               0         0          0                     0   \n",
       "57              0               0         1          0                     0   \n",
       "58              0               0         0          0                     0   \n",
       "59              0               0         0          0                     0   \n",
       "60              0               0         0          0                     0   \n",
       "\n",
       "    IsTwoPointConversionSuccessful RushDirection  YardLineFixed  \\\n",
       "56                               0    LEFT GUARD              5   \n",
       "57                               0           NaN              4   \n",
       "58                               0           NaN             15   \n",
       "59                               0    LEFT GUARD             42   \n",
       "60                               0           NaN             39   \n",
       "\n",
       "   YardLineDirection  IsPenaltyAccepted PenaltyTeam  IsNoPlay PenaltyType  \\\n",
       "56               OPP                  0         NaN         0         NaN   \n",
       "57               OPP                  0         NaN         0         NaN   \n",
       "58               OPP                  0         NaN         0         NaN   \n",
       "59               OPP                  0         NaN         0         NaN   \n",
       "60               OPP                  0         NaN         0         NaN   \n",
       "\n",
       "    PenaltyYards  \n",
       "56             0  \n",
       "57             0  \n",
       "58             0  \n",
       "59             0  \n",
       "60             0  "
      ]
     },
     "execution_count": 52,
     "metadata": {},
     "output_type": "execute_result"
    }
   ],
   "source": [
    "pats.head()"
   ]
  },
  {
   "cell_type": "code",
   "execution_count": 53,
   "metadata": {
    "collapsed": true
   },
   "outputs": [],
   "source": [
    "by_play = pats.groupby('PlayType').sum()"
   ]
  },
  {
   "cell_type": "code",
   "execution_count": 54,
   "metadata": {
    "collapsed": false
   },
   "outputs": [
    {
     "data": {
      "text/plain": [
       "PlayType\n",
       "CLOCK STOP                 0\n",
       "EXCEPTION                  0\n",
       "EXTRA POINT                0\n",
       "FIELD GOAL                 0\n",
       "FUMBLES                    0\n",
       "KICK OFF                   0\n",
       "NO PLAY                    0\n",
       "PASS                    8975\n",
       "PUNT                       0\n",
       "QB KNEEL                   0\n",
       "RUSH                    3139\n",
       "SACK                    -405\n",
       "SCRAMBLE                 268\n",
       "TIMEOUT                    0\n",
       "TWO-POINT CONVERSION       0\n",
       "Name: Yards, dtype: int64"
      ]
     },
     "execution_count": 54,
     "metadata": {},
     "output_type": "execute_result"
    }
   ],
   "source": [
    "by_play.Yards"
   ]
  },
  {
   "cell_type": "code",
   "execution_count": 60,
   "metadata": {
    "collapsed": false
   },
   "outputs": [
    {
     "data": {
      "text/plain": [
       "PlayType\n",
       "CLOCK STOP               0.000000\n",
       "EXCEPTION                0.000000\n",
       "EXTRA POINT              0.000000\n",
       "FIELD GOAL               0.000000\n",
       "FUMBLES                  0.000000\n",
       "KICK OFF                 0.000000\n",
       "NO PLAY                  0.000000\n",
       "PASS                    74.935293\n",
       "PUNT                     0.000000\n",
       "QB KNEEL                 0.000000\n",
       "RUSH                    26.208566\n",
       "SACK                    -3.381481\n",
       "SCRAMBLE                 2.237622\n",
       "TIMEOUT                  0.000000\n",
       "TWO-POINT CONVERSION     0.000000\n",
       "Name: Yards, dtype: float64"
      ]
     },
     "execution_count": 60,
     "metadata": {},
     "output_type": "execute_result"
    }
   ],
   "source": [
    "(by_play.Yards / pats.Yards.sum()) * 100"
   ]
  },
  {
   "cell_type": "code",
   "execution_count": 65,
   "metadata": {
    "collapsed": true
   },
   "outputs": [],
   "source": [
    "by_down = pats.groupby('Down').sum()"
   ]
  },
  {
   "cell_type": "markdown",
   "metadata": {},
   "source": [
    "### Note the number of Rush/Pass Per Down"
   ]
  },
  {
   "cell_type": "code",
   "execution_count": 69,
   "metadata": {
    "collapsed": false
   },
   "outputs": [
    {
     "data": {
      "text/html": [
       "<div>\n",
       "<table border=\"1\" class=\"dataframe\">\n",
       "  <thead>\n",
       "    <tr style=\"text-align: right;\">\n",
       "      <th></th>\n",
       "      <th>GameId</th>\n",
       "      <th>Quarter</th>\n",
       "      <th>Minute</th>\n",
       "      <th>Second</th>\n",
       "      <th>ToGo</th>\n",
       "      <th>YardLine</th>\n",
       "      <th>SeriesFirstDown</th>\n",
       "      <th>NextScore</th>\n",
       "      <th>TeamWin</th>\n",
       "      <th>SeasonYear</th>\n",
       "      <th>Yards</th>\n",
       "      <th>IsRush</th>\n",
       "      <th>IsPass</th>\n",
       "      <th>IsIncomplete</th>\n",
       "      <th>IsTouchdown</th>\n",
       "      <th>IsSack</th>\n",
       "      <th>IsChallenge</th>\n",
       "      <th>IsChallengeReversed</th>\n",
       "      <th>IsMeasurement</th>\n",
       "      <th>IsInterception</th>\n",
       "      <th>IsFumble</th>\n",
       "      <th>IsPenalty</th>\n",
       "      <th>IsTwoPointConversion</th>\n",
       "      <th>IsTwoPointConversionSuccessful</th>\n",
       "      <th>YardLineFixed</th>\n",
       "      <th>IsPenaltyAccepted</th>\n",
       "      <th>IsNoPlay</th>\n",
       "      <th>PenaltyYards</th>\n",
       "    </tr>\n",
       "    <tr>\n",
       "      <th>Down</th>\n",
       "      <th></th>\n",
       "      <th></th>\n",
       "      <th></th>\n",
       "      <th></th>\n",
       "      <th></th>\n",
       "      <th></th>\n",
       "      <th></th>\n",
       "      <th></th>\n",
       "      <th></th>\n",
       "      <th></th>\n",
       "      <th></th>\n",
       "      <th></th>\n",
       "      <th></th>\n",
       "      <th></th>\n",
       "      <th></th>\n",
       "      <th></th>\n",
       "      <th></th>\n",
       "      <th></th>\n",
       "      <th></th>\n",
       "      <th></th>\n",
       "      <th></th>\n",
       "      <th></th>\n",
       "      <th></th>\n",
       "      <th></th>\n",
       "      <th></th>\n",
       "      <th></th>\n",
       "      <th></th>\n",
       "      <th></th>\n",
       "    </tr>\n",
       "  </thead>\n",
       "  <tbody>\n",
       "    <tr>\n",
       "      <th>0</th>\n",
       "      <td>685499737793</td>\n",
       "      <td>862</td>\n",
       "      <td>2046</td>\n",
       "      <td>7161</td>\n",
       "      <td>0</td>\n",
       "      <td>12245</td>\n",
       "      <td>332</td>\n",
       "      <td>0</td>\n",
       "      <td>0</td>\n",
       "      <td>685440</td>\n",
       "      <td>0</td>\n",
       "      <td>0</td>\n",
       "      <td>0</td>\n",
       "      <td>0</td>\n",
       "      <td>0</td>\n",
       "      <td>0</td>\n",
       "      <td>1</td>\n",
       "      <td>1</td>\n",
       "      <td>0</td>\n",
       "      <td>0</td>\n",
       "      <td>5</td>\n",
       "      <td>8</td>\n",
       "      <td>5</td>\n",
       "      <td>3</td>\n",
       "      <td>6655</td>\n",
       "      <td>7</td>\n",
       "      <td>1</td>\n",
       "      <td>64</td>\n",
       "    </tr>\n",
       "    <tr>\n",
       "      <th>1</th>\n",
       "      <td>1939544398832</td>\n",
       "      <td>2407</td>\n",
       "      <td>6632</td>\n",
       "      <td>27599</td>\n",
       "      <td>9584</td>\n",
       "      <td>44936</td>\n",
       "      <td>176</td>\n",
       "      <td>0</td>\n",
       "      <td>0</td>\n",
       "      <td>1939392</td>\n",
       "      <td>5177</td>\n",
       "      <td>455</td>\n",
       "      <td>450</td>\n",
       "      <td>153</td>\n",
       "      <td>29</td>\n",
       "      <td>21</td>\n",
       "      <td>0</td>\n",
       "      <td>0</td>\n",
       "      <td>0</td>\n",
       "      <td>6</td>\n",
       "      <td>13</td>\n",
       "      <td>70</td>\n",
       "      <td>0</td>\n",
       "      <td>0</td>\n",
       "      <td>27468</td>\n",
       "      <td>63</td>\n",
       "      <td>55</td>\n",
       "      <td>569</td>\n",
       "    </tr>\n",
       "    <tr>\n",
       "      <th>2</th>\n",
       "      <td>1502043050480</td>\n",
       "      <td>1880</td>\n",
       "      <td>5055</td>\n",
       "      <td>21367</td>\n",
       "      <td>5890</td>\n",
       "      <td>36223</td>\n",
       "      <td>205</td>\n",
       "      <td>0</td>\n",
       "      <td>0</td>\n",
       "      <td>1501920</td>\n",
       "      <td>3661</td>\n",
       "      <td>298</td>\n",
       "      <td>401</td>\n",
       "      <td>138</td>\n",
       "      <td>27</td>\n",
       "      <td>14</td>\n",
       "      <td>4</td>\n",
       "      <td>2</td>\n",
       "      <td>0</td>\n",
       "      <td>3</td>\n",
       "      <td>18</td>\n",
       "      <td>77</td>\n",
       "      <td>0</td>\n",
       "      <td>0</td>\n",
       "      <td>21681</td>\n",
       "      <td>68</td>\n",
       "      <td>57</td>\n",
       "      <td>511</td>\n",
       "    </tr>\n",
       "    <tr>\n",
       "      <th>3</th>\n",
       "      <td>943562507604</td>\n",
       "      <td>1188</td>\n",
       "      <td>3210</td>\n",
       "      <td>13313</td>\n",
       "      <td>3257</td>\n",
       "      <td>23286</td>\n",
       "      <td>174</td>\n",
       "      <td>0</td>\n",
       "      <td>0</td>\n",
       "      <td>943488</td>\n",
       "      <td>2907</td>\n",
       "      <td>77</td>\n",
       "      <td>345</td>\n",
       "      <td>138</td>\n",
       "      <td>22</td>\n",
       "      <td>28</td>\n",
       "      <td>3</td>\n",
       "      <td>2</td>\n",
       "      <td>0</td>\n",
       "      <td>6</td>\n",
       "      <td>8</td>\n",
       "      <td>55</td>\n",
       "      <td>0</td>\n",
       "      <td>0</td>\n",
       "      <td>13780</td>\n",
       "      <td>43</td>\n",
       "      <td>34</td>\n",
       "      <td>376</td>\n",
       "    </tr>\n",
       "    <tr>\n",
       "      <th>4</th>\n",
       "      <td>500003813765</td>\n",
       "      <td>654</td>\n",
       "      <td>1639</td>\n",
       "      <td>6476</td>\n",
       "      <td>1889</td>\n",
       "      <td>12102</td>\n",
       "      <td>13</td>\n",
       "      <td>0</td>\n",
       "      <td>0</td>\n",
       "      <td>499968</td>\n",
       "      <td>232</td>\n",
       "      <td>11</td>\n",
       "      <td>18</td>\n",
       "      <td>10</td>\n",
       "      <td>3</td>\n",
       "      <td>0</td>\n",
       "      <td>2</td>\n",
       "      <td>1</td>\n",
       "      <td>0</td>\n",
       "      <td>1</td>\n",
       "      <td>5</td>\n",
       "      <td>26</td>\n",
       "      <td>0</td>\n",
       "      <td>0</td>\n",
       "      <td>7214</td>\n",
       "      <td>24</td>\n",
       "      <td>10</td>\n",
       "      <td>185</td>\n",
       "    </tr>\n",
       "  </tbody>\n",
       "</table>\n",
       "</div>"
      ],
      "text/plain": [
       "             GameId  Quarter  Minute  Second  ToGo  YardLine  SeriesFirstDown  \\\n",
       "Down                                                                            \n",
       "0      685499737793      862    2046    7161     0     12245              332   \n",
       "1     1939544398832     2407    6632   27599  9584     44936              176   \n",
       "2     1502043050480     1880    5055   21367  5890     36223              205   \n",
       "3      943562507604     1188    3210   13313  3257     23286              174   \n",
       "4      500003813765      654    1639    6476  1889     12102               13   \n",
       "\n",
       "      NextScore  TeamWin  SeasonYear  Yards  IsRush  IsPass  IsIncomplete  \\\n",
       "Down                                                                        \n",
       "0             0        0      685440      0       0       0             0   \n",
       "1             0        0     1939392   5177     455     450           153   \n",
       "2             0        0     1501920   3661     298     401           138   \n",
       "3             0        0      943488   2907      77     345           138   \n",
       "4             0        0      499968    232      11      18            10   \n",
       "\n",
       "      IsTouchdown  IsSack  IsChallenge  IsChallengeReversed  IsMeasurement  \\\n",
       "Down                                                                         \n",
       "0               0       0            1                    1              0   \n",
       "1              29      21            0                    0              0   \n",
       "2              27      14            4                    2              0   \n",
       "3              22      28            3                    2              0   \n",
       "4               3       0            2                    1              0   \n",
       "\n",
       "      IsInterception  IsFumble  IsPenalty  IsTwoPointConversion  \\\n",
       "Down                                                              \n",
       "0                  0         5          8                     5   \n",
       "1                  6        13         70                     0   \n",
       "2                  3        18         77                     0   \n",
       "3                  6         8         55                     0   \n",
       "4                  1         5         26                     0   \n",
       "\n",
       "      IsTwoPointConversionSuccessful  YardLineFixed  IsPenaltyAccepted  \\\n",
       "Down                                                                     \n",
       "0                                  3           6655                  7   \n",
       "1                                  0          27468                 63   \n",
       "2                                  0          21681                 68   \n",
       "3                                  0          13780                 43   \n",
       "4                                  0           7214                 24   \n",
       "\n",
       "      IsNoPlay  PenaltyYards  \n",
       "Down                          \n",
       "0            1            64  \n",
       "1           55           569  \n",
       "2           57           511  \n",
       "3           34           376  \n",
       "4           10           185  "
      ]
     },
     "execution_count": 69,
     "metadata": {},
     "output_type": "execute_result"
    }
   ],
   "source": [
    "by_down / by_down.sum()"
   ]
  },
  {
   "cell_type": "markdown",
   "metadata": {},
   "source": [
    "# Across the League Investigation"
   ]
  },
  {
   "cell_type": "code",
   "execution_count": 81,
   "metadata": {
    "collapsed": true
   },
   "outputs": [],
   "source": [
    "by_o_team = nfl.groupby('OffenseTeam').sum()"
   ]
  },
  {
   "cell_type": "code",
   "execution_count": 82,
   "metadata": {
    "collapsed": false
   },
   "outputs": [
    {
     "data": {
      "text/html": [
       "<div>\n",
       "<table border=\"1\" class=\"dataframe\">\n",
       "  <thead>\n",
       "    <tr style=\"text-align: right;\">\n",
       "      <th></th>\n",
       "      <th>GameId</th>\n",
       "      <th>Quarter</th>\n",
       "      <th>Minute</th>\n",
       "      <th>Second</th>\n",
       "      <th>Down</th>\n",
       "      <th>ToGo</th>\n",
       "      <th>YardLine</th>\n",
       "      <th>SeriesFirstDown</th>\n",
       "      <th>NextScore</th>\n",
       "      <th>TeamWin</th>\n",
       "      <th>SeasonYear</th>\n",
       "      <th>Yards</th>\n",
       "      <th>IsRush</th>\n",
       "      <th>IsPass</th>\n",
       "      <th>IsIncomplete</th>\n",
       "      <th>IsTouchdown</th>\n",
       "      <th>IsSack</th>\n",
       "      <th>IsChallenge</th>\n",
       "      <th>IsChallengeReversed</th>\n",
       "      <th>IsMeasurement</th>\n",
       "      <th>IsInterception</th>\n",
       "      <th>IsFumble</th>\n",
       "      <th>IsPenalty</th>\n",
       "      <th>IsTwoPointConversion</th>\n",
       "      <th>IsTwoPointConversionSuccessful</th>\n",
       "      <th>YardLineFixed</th>\n",
       "      <th>IsPenaltyAccepted</th>\n",
       "      <th>IsNoPlay</th>\n",
       "      <th>PenaltyYards</th>\n",
       "    </tr>\n",
       "    <tr>\n",
       "      <th>OffenseTeam</th>\n",
       "      <th></th>\n",
       "      <th></th>\n",
       "      <th></th>\n",
       "      <th></th>\n",
       "      <th></th>\n",
       "      <th></th>\n",
       "      <th></th>\n",
       "      <th></th>\n",
       "      <th></th>\n",
       "      <th></th>\n",
       "      <th></th>\n",
       "      <th></th>\n",
       "      <th></th>\n",
       "      <th></th>\n",
       "      <th></th>\n",
       "      <th></th>\n",
       "      <th></th>\n",
       "      <th></th>\n",
       "      <th></th>\n",
       "      <th></th>\n",
       "      <th></th>\n",
       "      <th></th>\n",
       "      <th></th>\n",
       "      <th></th>\n",
       "      <th></th>\n",
       "      <th></th>\n",
       "      <th></th>\n",
       "      <th></th>\n",
       "      <th></th>\n",
       "    </tr>\n",
       "  </thead>\n",
       "  <tbody>\n",
       "    <tr>\n",
       "      <th>ARI</th>\n",
       "      <td>2852873161913</td>\n",
       "      <td>3617</td>\n",
       "      <td>9387</td>\n",
       "      <td>38785</td>\n",
       "      <td>2504</td>\n",
       "      <td>11259</td>\n",
       "      <td>69063</td>\n",
       "      <td>449</td>\n",
       "      <td>0</td>\n",
       "      <td>0</td>\n",
       "      <td>2852640</td>\n",
       "      <td>6170</td>\n",
       "      <td>389</td>\n",
       "      <td>691</td>\n",
       "      <td>274</td>\n",
       "      <td>54</td>\n",
       "      <td>43</td>\n",
       "      <td>2</td>\n",
       "      <td>0</td>\n",
       "      <td>0</td>\n",
       "      <td>20</td>\n",
       "      <td>31</td>\n",
       "      <td>128</td>\n",
       "      <td>4</td>\n",
       "      <td>1</td>\n",
       "      <td>40621</td>\n",
       "      <td>110</td>\n",
       "      <td>87</td>\n",
       "      <td>874</td>\n",
       "    </tr>\n",
       "    <tr>\n",
       "      <th>ATL</th>\n",
       "      <td>2669401529646</td>\n",
       "      <td>3261</td>\n",
       "      <td>8973</td>\n",
       "      <td>38623</td>\n",
       "      <td>2169</td>\n",
       "      <td>9945</td>\n",
       "      <td>68534</td>\n",
       "      <td>510</td>\n",
       "      <td>0</td>\n",
       "      <td>0</td>\n",
       "      <td>2669184</td>\n",
       "      <td>6925</td>\n",
       "      <td>415</td>\n",
       "      <td>564</td>\n",
       "      <td>170</td>\n",
       "      <td>60</td>\n",
       "      <td>40</td>\n",
       "      <td>4</td>\n",
       "      <td>2</td>\n",
       "      <td>0</td>\n",
       "      <td>9</td>\n",
       "      <td>9</td>\n",
       "      <td>111</td>\n",
       "      <td>6</td>\n",
       "      <td>3</td>\n",
       "      <td>36882</td>\n",
       "      <td>103</td>\n",
       "      <td>69</td>\n",
       "      <td>871</td>\n",
       "    </tr>\n",
       "    <tr>\n",
       "      <th>BAL</th>\n",
       "      <td>2808511580873</td>\n",
       "      <td>3468</td>\n",
       "      <td>9337</td>\n",
       "      <td>38364</td>\n",
       "      <td>2621</td>\n",
       "      <td>11205</td>\n",
       "      <td>65433</td>\n",
       "      <td>391</td>\n",
       "      <td>0</td>\n",
       "      <td>0</td>\n",
       "      <td>2808288</td>\n",
       "      <td>6131</td>\n",
       "      <td>362</td>\n",
       "      <td>711</td>\n",
       "      <td>240</td>\n",
       "      <td>33</td>\n",
       "      <td>34</td>\n",
       "      <td>3</td>\n",
       "      <td>0</td>\n",
       "      <td>0</td>\n",
       "      <td>17</td>\n",
       "      <td>13</td>\n",
       "      <td>121</td>\n",
       "      <td>5</td>\n",
       "      <td>4</td>\n",
       "      <td>41681</td>\n",
       "      <td>111</td>\n",
       "      <td>82</td>\n",
       "      <td>1073</td>\n",
       "    </tr>\n",
       "    <tr>\n",
       "      <th>BUF</th>\n",
       "      <td>2671410152030</td>\n",
       "      <td>3433</td>\n",
       "      <td>8884</td>\n",
       "      <td>36820</td>\n",
       "      <td>2374</td>\n",
       "      <td>10358</td>\n",
       "      <td>64206</td>\n",
       "      <td>423</td>\n",
       "      <td>0</td>\n",
       "      <td>0</td>\n",
       "      <td>2671200</td>\n",
       "      <td>5980</td>\n",
       "      <td>485</td>\n",
       "      <td>504</td>\n",
       "      <td>196</td>\n",
       "      <td>48</td>\n",
       "      <td>49</td>\n",
       "      <td>10</td>\n",
       "      <td>6</td>\n",
       "      <td>0</td>\n",
       "      <td>11</td>\n",
       "      <td>16</td>\n",
       "      <td>113</td>\n",
       "      <td>4</td>\n",
       "      <td>4</td>\n",
       "      <td>37596</td>\n",
       "      <td>101</td>\n",
       "      <td>80</td>\n",
       "      <td>838</td>\n",
       "    </tr>\n",
       "    <tr>\n",
       "      <th>CAR</th>\n",
       "      <td>2774238254135</td>\n",
       "      <td>3535</td>\n",
       "      <td>9391</td>\n",
       "      <td>39222</td>\n",
       "      <td>2510</td>\n",
       "      <td>10925</td>\n",
       "      <td>68833</td>\n",
       "      <td>417</td>\n",
       "      <td>0</td>\n",
       "      <td>0</td>\n",
       "      <td>2774016</td>\n",
       "      <td>6123</td>\n",
       "      <td>459</td>\n",
       "      <td>596</td>\n",
       "      <td>264</td>\n",
       "      <td>46</td>\n",
       "      <td>37</td>\n",
       "      <td>6</td>\n",
       "      <td>1</td>\n",
       "      <td>0</td>\n",
       "      <td>22</td>\n",
       "      <td>12</td>\n",
       "      <td>138</td>\n",
       "      <td>6</td>\n",
       "      <td>3</td>\n",
       "      <td>40537</td>\n",
       "      <td>121</td>\n",
       "      <td>83</td>\n",
       "      <td>1009</td>\n",
       "    </tr>\n",
       "  </tbody>\n",
       "</table>\n",
       "</div>"
      ],
      "text/plain": [
       "                    GameId  Quarter  Minute  Second  Down   ToGo  YardLine  \\\n",
       "OffenseTeam                                                                  \n",
       "ARI          2852873161913     3617    9387   38785  2504  11259     69063   \n",
       "ATL          2669401529646     3261    8973   38623  2169   9945     68534   \n",
       "BAL          2808511580873     3468    9337   38364  2621  11205     65433   \n",
       "BUF          2671410152030     3433    8884   36820  2374  10358     64206   \n",
       "CAR          2774238254135     3535    9391   39222  2510  10925     68833   \n",
       "\n",
       "             SeriesFirstDown  NextScore  TeamWin  SeasonYear  Yards  IsRush  \\\n",
       "OffenseTeam                                                                   \n",
       "ARI                      449          0        0     2852640   6170     389   \n",
       "ATL                      510          0        0     2669184   6925     415   \n",
       "BAL                      391          0        0     2808288   6131     362   \n",
       "BUF                      423          0        0     2671200   5980     485   \n",
       "CAR                      417          0        0     2774016   6123     459   \n",
       "\n",
       "             IsPass  IsIncomplete  IsTouchdown  IsSack  IsChallenge  \\\n",
       "OffenseTeam                                                           \n",
       "ARI             691           274           54      43            2   \n",
       "ATL             564           170           60      40            4   \n",
       "BAL             711           240           33      34            3   \n",
       "BUF             504           196           48      49           10   \n",
       "CAR             596           264           46      37            6   \n",
       "\n",
       "             IsChallengeReversed  IsMeasurement  IsInterception  IsFumble  \\\n",
       "OffenseTeam                                                                 \n",
       "ARI                            0              0              20        31   \n",
       "ATL                            2              0               9         9   \n",
       "BAL                            0              0              17        13   \n",
       "BUF                            6              0              11        16   \n",
       "CAR                            1              0              22        12   \n",
       "\n",
       "             IsPenalty  IsTwoPointConversion  IsTwoPointConversionSuccessful  \\\n",
       "OffenseTeam                                                                    \n",
       "ARI                128                     4                               1   \n",
       "ATL                111                     6                               3   \n",
       "BAL                121                     5                               4   \n",
       "BUF                113                     4                               4   \n",
       "CAR                138                     6                               3   \n",
       "\n",
       "             YardLineFixed  IsPenaltyAccepted  IsNoPlay  PenaltyYards  \n",
       "OffenseTeam                                                            \n",
       "ARI                  40621                110        87           874  \n",
       "ATL                  36882                103        69           871  \n",
       "BAL                  41681                111        82          1073  \n",
       "BUF                  37596                101        80           838  \n",
       "CAR                  40537                121        83          1009  "
      ]
     },
     "execution_count": 82,
     "metadata": {},
     "output_type": "execute_result"
    }
   ],
   "source": [
    "by_o_team.head()"
   ]
  },
  {
   "cell_type": "code",
   "execution_count": null,
   "metadata": {
    "collapsed": true
   },
   "outputs": [],
   "source": []
  }
 ],
 "metadata": {
  "kernelspec": {
   "display_name": "Python 3",
   "language": "python",
   "name": "python3"
  },
  "language_info": {
   "codemirror_mode": {
    "name": "ipython",
    "version": 3
   },
   "file_extension": ".py",
   "mimetype": "text/x-python",
   "name": "python",
   "nbconvert_exporter": "python",
   "pygments_lexer": "ipython3",
   "version": "3.6.0"
  }
 },
 "nbformat": 4,
 "nbformat_minor": 2
}
